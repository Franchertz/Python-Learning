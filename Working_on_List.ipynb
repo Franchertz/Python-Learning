{
  "nbformat": 4,
  "nbformat_minor": 0,
  "metadata": {
    "colab": {
      "provenance": [],
      "authorship_tag": "ABX9TyNWr7ciAnNJ8ngaiuHumtst",
      "include_colab_link": true
    },
    "kernelspec": {
      "name": "python3",
      "display_name": "Python 3"
    },
    "language_info": {
      "name": "python"
    }
  },
  "cells": [
    {
      "cell_type": "markdown",
      "metadata": {
        "id": "view-in-github",
        "colab_type": "text"
      },
      "source": [
        "<a href=\"https://colab.research.google.com/github/Franchertz/Python-Learning/blob/main/Working_on_List.ipynb\" target=\"_parent\"><img src=\"https://colab.research.google.com/assets/colab-badge.svg\" alt=\"Open In Colab\"/></a>"
      ]
    },
    {
      "cell_type": "markdown",
      "source": [
        "#**List**\n",
        "List is an ordered sequence of items.\n",
        "\n",
        "The most used datatype in Python.\n",
        "\n",
        "All items in a list may be a combination of different datatype."
      ],
      "metadata": {
        "id": "MrafG_p_4V-i"
      }
    },
    {
      "cell_type": "markdown",
      "source": [
        "#**Examples**"
      ],
      "metadata": {
        "id": "a6HByNsZ47JN"
      }
    },
    {
      "cell_type": "code",
      "source": [
        "#Creating a list\n",
        "\n",
        "int_list = [500,30,1000,25,10]  #only integers\n",
        "\n",
        "str_list = ['Hello Everyone', 'This is', 'a string list']  #only string\n",
        "\n",
        "int_and_str_list = ['Hello', 500, 'this is', 30.45554, 'Calling']  #combination\n"
      ],
      "metadata": {
        "id": "zOBJAL7P5A-Z"
      },
      "execution_count": null,
      "outputs": []
    },
    {
      "cell_type": "code",
      "source": [
        "print(int_list)\n",
        "print(str_list)\n",
        "print(int_and_str_list)"
      ],
      "metadata": {
        "colab": {
          "base_uri": "https://localhost:8080/"
        },
        "id": "IzdEsYCE6N4p",
        "outputId": "9b9d8733-7e92-48a7-b631-1608636f839d"
      },
      "execution_count": null,
      "outputs": [
        {
          "output_type": "stream",
          "name": "stdout",
          "text": [
            "[500, 30, 1000, 25, 10]\n",
            "['Hello Everyone', 'This is', 'a string list']\n",
            "['Hello', 500, 'this is', 30.45554, 'Calling']\n"
          ]
        }
      ]
    },
    {
      "cell_type": "code",
      "source": [
        "print(type(int_list))\n",
        "print(type(str_list))\n",
        "print(type(int_and_str_list))"
      ],
      "metadata": {
        "colab": {
          "base_uri": "https://localhost:8080/"
        },
        "id": "nnui_1hG6cLY",
        "outputId": "417d790f-9641-4142-f5ee-62e5b72a561f"
      },
      "execution_count": null,
      "outputs": [
        {
          "output_type": "stream",
          "name": "stdout",
          "text": [
            "<class 'list'>\n",
            "<class 'list'>\n",
            "<class 'list'>\n"
          ]
        }
      ]
    },
    {
      "cell_type": "markdown",
      "source": [
        "#**Conversion of one data type to another**"
      ],
      "metadata": {
        "id": "TBQ9etJs65I-"
      }
    },
    {
      "cell_type": "code",
      "source": [
        "a=20  #integer => float"
      ],
      "metadata": {
        "id": "3toaVIAu7JR2"
      },
      "execution_count": null,
      "outputs": []
    },
    {
      "cell_type": "code",
      "source": [
        "float(a)"
      ],
      "metadata": {
        "colab": {
          "base_uri": "https://localhost:8080/"
        },
        "id": "u2AsuVbO7UKY",
        "outputId": "81e9a544-ca52-4c5d-e5fb-1e9fa8c17ffa"
      },
      "execution_count": null,
      "outputs": [
        {
          "output_type": "execute_result",
          "data": {
            "text/plain": [
              "20.0"
            ]
          },
          "metadata": {},
          "execution_count": 6
        }
      ]
    },
    {
      "cell_type": "code",
      "source": [
        "b=200.345  #Float => Integer"
      ],
      "metadata": {
        "id": "TkYwJ1wM7ZL4"
      },
      "execution_count": null,
      "outputs": []
    },
    {
      "cell_type": "code",
      "source": [
        "int(b)"
      ],
      "metadata": {
        "colab": {
          "base_uri": "https://localhost:8080/"
        },
        "id": "FfZtRmiX7nYR",
        "outputId": "e5346ee4-3ef5-40e9-d913-45075b97876d"
      },
      "execution_count": null,
      "outputs": [
        {
          "output_type": "execute_result",
          "data": {
            "text/plain": [
              "200"
            ]
          },
          "metadata": {},
          "execution_count": 8
        }
      ]
    },
    {
      "cell_type": "code",
      "source": [
        "str(a) #int => str"
      ],
      "metadata": {
        "colab": {
          "base_uri": "https://localhost:8080/",
          "height": 35
        },
        "id": "yVvK1lwd7tSw",
        "outputId": "b74b942f-531f-4b94-d917-6a42d65f3a90"
      },
      "execution_count": null,
      "outputs": [
        {
          "output_type": "execute_result",
          "data": {
            "text/plain": [
              "'20'"
            ],
            "application/vnd.google.colaboratory.intrinsic+json": {
              "type": "string"
            }
          },
          "metadata": {},
          "execution_count": 9
        }
      ]
    },
    {
      "cell_type": "code",
      "source": [
        "c=\"SecureSolution\""
      ],
      "metadata": {
        "id": "IT8vSSgd7tLC"
      },
      "execution_count": null,
      "outputs": []
    },
    {
      "cell_type": "code",
      "source": [
        "int(c)"
      ],
      "metadata": {
        "colab": {
          "base_uri": "https://localhost:8080/",
          "height": 165
        },
        "id": "01qzIWgU7s4Q",
        "outputId": "004b006e-5589-4396-f6e9-d102d989f5af"
      },
      "execution_count": null,
      "outputs": [
        {
          "output_type": "error",
          "ename": "ValueError",
          "evalue": "ignored",
          "traceback": [
            "\u001b[0;31m---------------------------------------------------------------------------\u001b[0m",
            "\u001b[0;31mValueError\u001b[0m                                Traceback (most recent call last)",
            "\u001b[0;32m<ipython-input-11-089eb950f64f>\u001b[0m in \u001b[0;36m<cell line: 1>\u001b[0;34m()\u001b[0m\n\u001b[0;32m----> 1\u001b[0;31m \u001b[0mint\u001b[0m\u001b[0;34m(\u001b[0m\u001b[0mc\u001b[0m\u001b[0;34m)\u001b[0m\u001b[0;34m\u001b[0m\u001b[0;34m\u001b[0m\u001b[0m\n\u001b[0m",
            "\u001b[0;31mValueError\u001b[0m: invalid literal for int() with base 10: 'SecureSolution'"
          ]
        }
      ]
    },
    {
      "cell_type": "markdown",
      "source": [
        "**Strings cannot be converted to Integers, as shown in the above error**"
      ],
      "metadata": {
        "id": "saoEE3wo8RGU"
      }
    },
    {
      "cell_type": "code",
      "source": [
        "d=a+b\n",
        "d"
      ],
      "metadata": {
        "colab": {
          "base_uri": "https://localhost:8080/"
        },
        "id": "ufdfd0xJ8r7B",
        "outputId": "9602afbc-03a7-47d5-b798-a0784f267715"
      },
      "execution_count": null,
      "outputs": [
        {
          "output_type": "execute_result",
          "data": {
            "text/plain": [
              "220.345"
            ]
          },
          "metadata": {},
          "execution_count": 12
        }
      ]
    },
    {
      "cell_type": "code",
      "source": [
        "type(d)"
      ],
      "metadata": {
        "colab": {
          "base_uri": "https://localhost:8080/"
        },
        "id": "3yrdhmJW8zHJ",
        "outputId": "ece0e6eb-4961-45c2-ae2b-9145a185d486"
      },
      "execution_count": null,
      "outputs": [
        {
          "output_type": "execute_result",
          "data": {
            "text/plain": [
              "float"
            ]
          },
          "metadata": {},
          "execution_count": 13
        }
      ]
    },
    {
      "cell_type": "markdown",
      "source": [
        "**List of list**"
      ],
      "metadata": {
        "id": "BkvyhNWV8-uZ"
      }
    },
    {
      "cell_type": "code",
      "source": [
        "list_of_lists = [[1,2,3],[4,5,6],[7,8,9]]\n",
        "list_of_lists"
      ],
      "metadata": {
        "colab": {
          "base_uri": "https://localhost:8080/"
        },
        "id": "_LuXpRKJ9KWJ",
        "outputId": "a9a752ee-aebf-4703-823b-534d2ef7073a"
      },
      "execution_count": null,
      "outputs": [
        {
          "output_type": "execute_result",
          "data": {
            "text/plain": [
              "[[1, 2, 3], [4, 5, 6], [7, 8, 9]]"
            ]
          },
          "metadata": {},
          "execution_count": 14
        }
      ]
    },
    {
      "cell_type": "code",
      "source": [
        "print(list_of_lists [0])  #printing list of lists at index 0\n",
        "print(list_of_lists [2])"
      ],
      "metadata": {
        "colab": {
          "base_uri": "https://localhost:8080/"
        },
        "id": "je1x3Xt-9fb5",
        "outputId": "acbbc04a-ec26-4d74-b973-6b9389a2a7dd"
      },
      "execution_count": null,
      "outputs": [
        {
          "output_type": "stream",
          "name": "stdout",
          "text": [
            "[1, 2, 3]\n",
            "[7, 8, 9]\n"
          ]
        }
      ]
    },
    {
      "cell_type": "markdown",
      "source": [
        "#**Range In Python**\n",
        "\n",
        "Slicing & Indexing"
      ],
      "metadata": {
        "id": "ydKqQKL2-Kup"
      }
    },
    {
      "cell_type": "code",
      "source": [
        "ss=['S','E','C','U','R','E','S','O','L','U','T','I','O','N']\n",
        "print(ss)"
      ],
      "metadata": {
        "colab": {
          "base_uri": "https://localhost:8080/"
        },
        "id": "fKlguMpD_AU2",
        "outputId": "3efeee08-1790-45e8-b472-0b7a93ec71fe"
      },
      "execution_count": null,
      "outputs": [
        {
          "output_type": "stream",
          "name": "stdout",
          "text": [
            "['S', 'E', 'C', 'U', 'R', 'E', 'S', 'O', 'L', 'U', 'T', 'I', 'O', 'N']\n"
          ]
        }
      ]
    },
    {
      "cell_type": "markdown",
      "source": [
        "**Let's perform some slicing**"
      ],
      "metadata": {
        "id": "415_b4QN_sKg"
      }
    },
    {
      "cell_type": "code",
      "source": [
        "ss[0]"
      ],
      "metadata": {
        "colab": {
          "base_uri": "https://localhost:8080/",
          "height": 35
        },
        "id": "oEu2Y9aI_0uB",
        "outputId": "3ab5c277-6b36-4ba8-98e2-19486673a4a1"
      },
      "execution_count": null,
      "outputs": [
        {
          "output_type": "execute_result",
          "data": {
            "text/plain": [
              "'S'"
            ],
            "application/vnd.google.colaboratory.intrinsic+json": {
              "type": "string"
            }
          },
          "metadata": {},
          "execution_count": 18
        }
      ]
    },
    {
      "cell_type": "code",
      "source": [
        "ss[13]"
      ],
      "metadata": {
        "colab": {
          "base_uri": "https://localhost:8080/",
          "height": 35
        },
        "id": "PA8vxUpf__ia",
        "outputId": "430815c6-ae21-4c9f-c467-cef715db4bbe"
      },
      "execution_count": null,
      "outputs": [
        {
          "output_type": "execute_result",
          "data": {
            "text/plain": [
              "'N'"
            ],
            "application/vnd.google.colaboratory.intrinsic+json": {
              "type": "string"
            }
          },
          "metadata": {},
          "execution_count": 20
        }
      ]
    },
    {
      "cell_type": "code",
      "source": [
        "print(ss [9])\n",
        "print(ss [-5]) #negetive index 5, which is pointing to the same positive result"
      ],
      "metadata": {
        "colab": {
          "base_uri": "https://localhost:8080/"
        },
        "id": "74IlxbG0AIrh",
        "outputId": "91dcf2e7-3f45-413f-9c5b-f0ee47ed776d"
      },
      "execution_count": null,
      "outputs": [
        {
          "output_type": "stream",
          "name": "stdout",
          "text": [
            "U\n",
            "U\n"
          ]
        }
      ]
    },
    {
      "cell_type": "code",
      "source": [
        "ss[6:9] #looking at range of index"
      ],
      "metadata": {
        "colab": {
          "base_uri": "https://localhost:8080/"
        },
        "id": "Qi4z6nQTBNuo",
        "outputId": "d86c4bee-d9fa-4af4-a92d-4d45c4205caf"
      },
      "execution_count": null,
      "outputs": [
        {
          "output_type": "execute_result",
          "data": {
            "text/plain": [
              "['S', 'O', 'L']"
            ]
          },
          "metadata": {},
          "execution_count": 22
        }
      ]
    },
    {
      "cell_type": "markdown",
      "source": [
        "#**Splitting Data**"
      ],
      "metadata": {
        "id": "3QPpBBEhBmlx"
      }
    },
    {
      "cell_type": "code",
      "source": [
        "name = 'James Smith Woodrow'.split(' ')  #splitting or separating name based on the space between name\n",
        "job = 'Senior Data Scientist at Microsoft'.split(' ')\n",
        "print(name)\n",
        "print(job)"
      ],
      "metadata": {
        "colab": {
          "base_uri": "https://localhost:8080/"
        },
        "id": "-GH-_t2nCF0I",
        "outputId": "94e786cb-f47d-4c85-aa63-0cde324fab40"
      },
      "execution_count": null,
      "outputs": [
        {
          "output_type": "stream",
          "name": "stdout",
          "text": [
            "['James', 'Smith', 'Woodrow']\n",
            "['Senior', 'Data', 'Scientist', 'at', 'Microsoft']\n"
          ]
        }
      ]
    },
    {
      "cell_type": "code",
      "source": [
        "total_all='SECURE,SOLUTION'.split(',')  #splitting or separating name based on the comma between name\n",
        "total_all"
      ],
      "metadata": {
        "colab": {
          "base_uri": "https://localhost:8080/"
        },
        "id": "YVuzQMhXDI7A",
        "outputId": "6bf1281d-cf76-480a-abd0-10808bdff115"
      },
      "execution_count": null,
      "outputs": [
        {
          "output_type": "execute_result",
          "data": {
            "text/plain": [
              "['SECURE', 'SOLUTION']"
            ]
          },
          "metadata": {},
          "execution_count": 26
        }
      ]
    },
    {
      "cell_type": "code",
      "source": [
        "names = ['Jhon','Chris','Modi','Megha','Simran','Chris','Josh','Arti','Jhon','Chris']\n",
        "names.count('Chris') #Counts the number of Chris in the list"
      ],
      "metadata": {
        "colab": {
          "base_uri": "https://localhost:8080/"
        },
        "id": "WMo7N_9tDvRI",
        "outputId": "e4629596-200b-4c6f-8195-f092ce7fe940"
      },
      "execution_count": null,
      "outputs": [
        {
          "output_type": "execute_result",
          "data": {
            "text/plain": [
              "3"
            ]
          },
          "metadata": {},
          "execution_count": 27
        }
      ]
    },
    {
      "cell_type": "code",
      "source": [
        "names.index('Chris')"
      ],
      "metadata": {
        "colab": {
          "base_uri": "https://localhost:8080/"
        },
        "id": "uKO7jE-BEg-Y",
        "outputId": "1d56289c-056c-40cc-9c2f-e572acea8ef1"
      },
      "execution_count": null,
      "outputs": [
        {
          "output_type": "execute_result",
          "data": {
            "text/plain": [
              "1"
            ]
          },
          "metadata": {},
          "execution_count": 31
        }
      ]
    },
    {
      "cell_type": "code",
      "source": [
        "names.index('Jhon')"
      ],
      "metadata": {
        "colab": {
          "base_uri": "https://localhost:8080/"
        },
        "id": "W-g-GX_aEg1Q",
        "outputId": "88ccf5bf-ea06-4aa3-9157-fcc0ed50d8da"
      },
      "execution_count": null,
      "outputs": [
        {
          "output_type": "execute_result",
          "data": {
            "text/plain": [
              "0"
            ]
          },
          "metadata": {},
          "execution_count": 32
        }
      ]
    },
    {
      "cell_type": "code",
      "source": [
        "names.reverse() #reverses the whole list"
      ],
      "metadata": {
        "id": "i-IwS38hEgsh"
      },
      "execution_count": null,
      "outputs": []
    },
    {
      "cell_type": "code",
      "source": [
        "print(names)"
      ],
      "metadata": {
        "colab": {
          "base_uri": "https://localhost:8080/"
        },
        "id": "62DmG3bUFaEh",
        "outputId": "5867b7f5-f850-43fe-c8d2-8e921df0294c"
      },
      "execution_count": null,
      "outputs": [
        {
          "output_type": "stream",
          "name": "stdout",
          "text": [
            "['Chris', 'Jhon', 'Arti', 'Josh', 'Chris', 'Simran', 'Megha', 'Modi', 'Chris', 'Jhon']\n"
          ]
        }
      ]
    },
    {
      "cell_type": "code",
      "source": [
        "names.append('Pallavi')   #append() adds an item to the end of the list\n",
        "names"
      ],
      "metadata": {
        "colab": {
          "base_uri": "https://localhost:8080/"
        },
        "id": "fuYTsaDLFhuh",
        "outputId": "376ed585-7c3c-4eac-90a9-ccac57dc8b98"
      },
      "execution_count": null,
      "outputs": [
        {
          "output_type": "execute_result",
          "data": {
            "text/plain": [
              "['Chris',\n",
              " 'Jhon',\n",
              " 'Arti',\n",
              " 'Josh',\n",
              " 'Chris',\n",
              " 'Simran',\n",
              " 'Megha',\n",
              " 'Modi',\n",
              " 'Chris',\n",
              " 'Jhon',\n",
              " 'Pallavi']"
            ]
          },
          "metadata": {},
          "execution_count": 35
        }
      ]
    },
    {
      "cell_type": "code",
      "source": [
        "print(names)"
      ],
      "metadata": {
        "colab": {
          "base_uri": "https://localhost:8080/"
        },
        "id": "EMrs8PKhFz5h",
        "outputId": "9e6e8f3c-c4c8-4c16-e2a3-419b37bb650f"
      },
      "execution_count": null,
      "outputs": [
        {
          "output_type": "stream",
          "name": "stdout",
          "text": [
            "['Chris', 'Jhon', 'Arti', 'Josh', 'Chris', 'Simran', 'Megha', 'Modi', 'Chris', 'Jhon', 'Pallavi']\n"
          ]
        }
      ]
    },
    {
      "cell_type": "code",
      "source": [
        "names.remove(\"Pallavi\")\n",
        "names"
      ],
      "metadata": {
        "colab": {
          "base_uri": "https://localhost:8080/"
        },
        "id": "xX5g4n1zGJWB",
        "outputId": "2baaf7a5-b480-4820-fa7f-3264dbeffd81"
      },
      "execution_count": null,
      "outputs": [
        {
          "output_type": "execute_result",
          "data": {
            "text/plain": [
              "['Chris',\n",
              " 'Jhon',\n",
              " 'Arti',\n",
              " 'Josh',\n",
              " 'Chris',\n",
              " 'Simran',\n",
              " 'Megha',\n",
              " 'Modi',\n",
              " 'Chris',\n",
              " 'Jhon']"
            ]
          },
          "metadata": {},
          "execution_count": 37
        }
      ]
    },
    {
      "cell_type": "code",
      "source": [
        "names.pop()  #removes the last name on the list if you dont specify"
      ],
      "metadata": {
        "colab": {
          "base_uri": "https://localhost:8080/",
          "height": 35
        },
        "id": "do9WJurQGYkH",
        "outputId": "0924a7da-438b-4a0f-c231-1beef4fba23e"
      },
      "execution_count": null,
      "outputs": [
        {
          "output_type": "execute_result",
          "data": {
            "text/plain": [
              "'Jhon'"
            ],
            "application/vnd.google.colaboratory.intrinsic+json": {
              "type": "string"
            }
          },
          "metadata": {},
          "execution_count": 38
        }
      ]
    },
    {
      "cell_type": "code",
      "source": [
        "names.sort()  #Sorts the items in alphabetic order\n",
        "names"
      ],
      "metadata": {
        "colab": {
          "base_uri": "https://localhost:8080/"
        },
        "id": "Hc6qfI9nGYgh",
        "outputId": "ebfb3c9b-8683-4491-c9f2-056c07d9d161"
      },
      "execution_count": null,
      "outputs": [
        {
          "output_type": "execute_result",
          "data": {
            "text/plain": [
              "['Arti', 'Chris', 'Chris', 'Chris', 'Jhon', 'Josh', 'Megha', 'Modi', 'Simran']"
            ]
          },
          "metadata": {},
          "execution_count": 40
        }
      ]
    },
    {
      "cell_type": "code",
      "source": [
        "new_names = names.copy()  #Creating a copy of data\n",
        "new_names"
      ],
      "metadata": {
        "colab": {
          "base_uri": "https://localhost:8080/"
        },
        "id": "6x3Ug5CVGYXw",
        "outputId": "ad336205-2b28-4a90-e143-69db4929c06f"
      },
      "execution_count": null,
      "outputs": [
        {
          "output_type": "execute_result",
          "data": {
            "text/plain": [
              "['Arti', 'Chris', 'Chris', 'Chris', 'Jhon', 'Josh', 'Megha', 'Modi', 'Simran']"
            ]
          },
          "metadata": {},
          "execution_count": 42
        }
      ]
    }
  ]
}