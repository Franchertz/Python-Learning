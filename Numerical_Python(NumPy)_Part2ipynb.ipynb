{
  "nbformat": 4,
  "nbformat_minor": 0,
  "metadata": {
    "colab": {
      "provenance": [],
      "authorship_tag": "ABX9TyNZ8oEZiVGY/hkuu+HAH9IW",
      "include_colab_link": true
    },
    "kernelspec": {
      "name": "python3",
      "display_name": "Python 3"
    },
    "language_info": {
      "name": "python"
    }
  },
  "cells": [
    {
      "cell_type": "markdown",
      "metadata": {
        "id": "view-in-github",
        "colab_type": "text"
      },
      "source": [
        "<a href=\"https://colab.research.google.com/github/Franchertz/Python-Learning/blob/main/Numerical_Python(NumPy)_Part2ipynb.ipynb\" target=\"_parent\"><img src=\"https://colab.research.google.com/assets/colab-badge.svg\" alt=\"Open In Colab\"/></a>"
      ]
    },
    {
      "cell_type": "markdown",
      "source": [
        "#**Numpy: Generating Random Values**\n",
        "\n",
        "**with <np.random.rand>**"
      ],
      "metadata": {
        "id": "_dn3C-vqjLyD"
      }
    },
    {
      "cell_type": "markdown",
      "source": [
        "#Example: *Creating an array of a given shape and populating with random samples form a uniform distribution between 0 and 1*"
      ],
      "metadata": {
        "id": "OffqAPizjol3"
      }
    },
    {
      "cell_type": "code",
      "source": [
        "import numpy as np"
      ],
      "metadata": {
        "id": "CXNmAmnYjfMV"
      },
      "execution_count": null,
      "outputs": []
    },
    {
      "cell_type": "code",
      "source": [
        "np.random.rand(3,2)"
      ],
      "metadata": {
        "colab": {
          "base_uri": "https://localhost:8080/"
        },
        "id": "lsG9YqDBmuby",
        "outputId": "b71b4473-ad70-4d57-c7ee-57a1fb620ff5"
      },
      "execution_count": null,
      "outputs": [
        {
          "output_type": "execute_result",
          "data": {
            "text/plain": [
              "array([[0.36873788, 0.03643588],\n",
              "       [0.5761742 , 0.67772736],\n",
              "       [0.12800143, 0.34322226]])"
            ]
          },
          "metadata": {},
          "execution_count": 14
        }
      ]
    },
    {
      "cell_type": "code",
      "source": [
        "np.random.rand(5,3)"
      ],
      "metadata": {
        "colab": {
          "base_uri": "https://localhost:8080/"
        },
        "id": "IS_kG9_hm5qx",
        "outputId": "152df5c3-2758-4c09-ac45-f19f67aa40fc"
      },
      "execution_count": null,
      "outputs": [
        {
          "output_type": "execute_result",
          "data": {
            "text/plain": [
              "array([[0.20996734, 0.18291374, 0.69065458],\n",
              "       [0.23476411, 0.84468728, 0.97579136],\n",
              "       [0.493457  , 0.5374894 , 0.04893742],\n",
              "       [0.28448251, 0.46257101, 0.23203518],\n",
              "       [0.0572425 , 0.19900911, 0.59224405]])"
            ]
          },
          "metadata": {},
          "execution_count": 17
        }
      ]
    },
    {
      "cell_type": "markdown",
      "source": [
        "**with <np.random.rand>**"
      ],
      "metadata": {
        "id": "PzIJ9JoAnkRY"
      }
    },
    {
      "cell_type": "code",
      "source": [
        "a = np.random.randn(3,3) #Returns sample from the \"standard normal\" distribution\n",
        "a"
      ],
      "metadata": {
        "colab": {
          "base_uri": "https://localhost:8080/"
        },
        "id": "hjD0Lq8bn5NZ",
        "outputId": "5605dab6-9cda-4983-c93a-1c5b91f012b4"
      },
      "execution_count": null,
      "outputs": [
        {
          "output_type": "execute_result",
          "data": {
            "text/plain": [
              "array([[-0.5501054 ,  0.83530375, -0.3671542 ],\n",
              "       [ 0.27087073,  0.69479907,  1.05792263],\n",
              "       [-1.23820189,  0.61202913, -0.59685642]])"
            ]
          },
          "metadata": {},
          "execution_count": 23
        }
      ]
    },
    {
      "cell_type": "markdown",
      "source": [
        "**with <np.random.randint>**"
      ],
      "metadata": {
        "id": "81bsIvApo8pR"
      }
    },
    {
      "cell_type": "code",
      "source": [
        "#Generating 10 numbers between 4 and 15\n",
        "mn=np.random.randint(4,15,10)\n",
        "mn"
      ],
      "metadata": {
        "colab": {
          "base_uri": "https://localhost:8080/"
        },
        "id": "9MkObaGOpd5v",
        "outputId": "24663ef0-ecc4-4958-d656-aa12d8977fae"
      },
      "execution_count": null,
      "outputs": [
        {
          "output_type": "execute_result",
          "data": {
            "text/plain": [
              "array([14,  7,  9, 10,  9,  6, 11,  6,  4,  7])"
            ]
          },
          "metadata": {},
          "execution_count": 35
        }
      ]
    },
    {
      "cell_type": "code",
      "source": [
        "len(mn)"
      ],
      "metadata": {
        "colab": {
          "base_uri": "https://localhost:8080/"
        },
        "id": "o2HwaKp3qHvg",
        "outputId": "c8d4ca7b-43b7-4b07-8ee4-66173f28c7a6"
      },
      "execution_count": null,
      "outputs": [
        {
          "output_type": "execute_result",
          "data": {
            "text/plain": [
              "10"
            ]
          },
          "metadata": {},
          "execution_count": 36
        }
      ]
    },
    {
      "cell_type": "code",
      "source": [
        "mn.reshape(5,2)"
      ],
      "metadata": {
        "colab": {
          "base_uri": "https://localhost:8080/"
        },
        "id": "knp1Za_uqMGf",
        "outputId": "ae9a75cd-4977-4de6-bf03-b1e642fd2819"
      },
      "execution_count": null,
      "outputs": [
        {
          "output_type": "execute_result",
          "data": {
            "text/plain": [
              "array([[14,  7],\n",
              "       [ 9, 10],\n",
              "       [ 9,  6],\n",
              "       [11,  6],\n",
              "       [ 4,  7]])"
            ]
          },
          "metadata": {},
          "execution_count": 37
        }
      ]
    },
    {
      "cell_type": "code",
      "source": [
        "tt = np.random.randint(0,10, (4,3))\n",
        "tt"
      ],
      "metadata": {
        "colab": {
          "base_uri": "https://localhost:8080/"
        },
        "id": "3d4ksllIqcXg",
        "outputId": "9e2640e5-7b4e-48da-f1c7-6cd719c514d2"
      },
      "execution_count": null,
      "outputs": [
        {
          "output_type": "execute_result",
          "data": {
            "text/plain": [
              "array([[3, 0, 6],\n",
              "       [6, 5, 2],\n",
              "       [1, 2, 5],\n",
              "       [4, 8, 4]])"
            ]
          },
          "metadata": {},
          "execution_count": 38
        }
      ]
    },
    {
      "cell_type": "markdown",
      "source": [
        "#**Numpy Indexing & Slicing**"
      ],
      "metadata": {
        "id": "pU36lSVnS9jn"
      }
    },
    {
      "cell_type": "code",
      "source": [
        "mn=np.random.randint(4,15,10)\n",
        "mn"
      ],
      "metadata": {
        "colab": {
          "base_uri": "https://localhost:8080/"
        },
        "id": "NnYIlEd1Tddu",
        "outputId": "f9957b23-eac6-43ec-e3ac-8932db711c7d"
      },
      "execution_count": null,
      "outputs": [
        {
          "output_type": "execute_result",
          "data": {
            "text/plain": [
              "array([11,  7, 13,  8, 10, 11,  8,  5,  7, 14])"
            ]
          },
          "metadata": {},
          "execution_count": 6
        }
      ]
    },
    {
      "cell_type": "code",
      "source": [
        "mn[1]"
      ],
      "metadata": {
        "colab": {
          "base_uri": "https://localhost:8080/"
        },
        "id": "2Bj2uRFJUFpM",
        "outputId": "d17a408f-2f45-4aab-d016-71814d607f8b"
      },
      "execution_count": null,
      "outputs": [
        {
          "output_type": "execute_result",
          "data": {
            "text/plain": [
              "7"
            ]
          },
          "metadata": {},
          "execution_count": 7
        }
      ]
    },
    {
      "cell_type": "code",
      "source": [
        "mn[-1]"
      ],
      "metadata": {
        "colab": {
          "base_uri": "https://localhost:8080/"
        },
        "id": "0zAmQ51KUccM",
        "outputId": "ef01a111-1ff7-42e4-a32b-77fbfc51db54"
      },
      "execution_count": null,
      "outputs": [
        {
          "output_type": "execute_result",
          "data": {
            "text/plain": [
              "14"
            ]
          },
          "metadata": {},
          "execution_count": 8
        }
      ]
    },
    {
      "cell_type": "code",
      "source": [
        "mn[3:7]"
      ],
      "metadata": {
        "colab": {
          "base_uri": "https://localhost:8080/"
        },
        "id": "utyrS722U2E3",
        "outputId": "bbc4d380-7af3-48ba-f073-f93207ebae6b"
      },
      "execution_count": null,
      "outputs": [
        {
          "output_type": "execute_result",
          "data": {
            "text/plain": [
              "array([ 8, 10, 11,  8])"
            ]
          },
          "metadata": {},
          "execution_count": 9
        }
      ]
    },
    {
      "cell_type": "code",
      "source": [
        "mn[3:]"
      ],
      "metadata": {
        "colab": {
          "base_uri": "https://localhost:8080/"
        },
        "id": "uMleb__XVJeI",
        "outputId": "e1e8c43f-a08d-4464-a401-05c947cb8c10"
      },
      "execution_count": null,
      "outputs": [
        {
          "output_type": "execute_result",
          "data": {
            "text/plain": [
              "array([ 8, 10, 11,  8,  5,  7, 14])"
            ]
          },
          "metadata": {},
          "execution_count": 10
        }
      ]
    },
    {
      "cell_type": "code",
      "source": [
        "mn[5:-2]"
      ],
      "metadata": {
        "colab": {
          "base_uri": "https://localhost:8080/"
        },
        "id": "StEIYT6dVJZl",
        "outputId": "84704e48-9066-4dce-dd7f-55fd08269722"
      },
      "execution_count": null,
      "outputs": [
        {
          "output_type": "execute_result",
          "data": {
            "text/plain": [
              "array([11,  8,  5])"
            ]
          },
          "metadata": {},
          "execution_count": 12
        }
      ]
    },
    {
      "cell_type": "code",
      "source": [
        "mn.resize(2,5)\n",
        "mn"
      ],
      "metadata": {
        "colab": {
          "base_uri": "https://localhost:8080/"
        },
        "id": "m15TZ6joVIw-",
        "outputId": "0eb353cb-2934-498c-ab3b-4998e2e5390a"
      },
      "execution_count": null,
      "outputs": [
        {
          "output_type": "execute_result",
          "data": {
            "text/plain": [
              "array([[11,  7, 13,  8, 10],\n",
              "       [11,  8,  5,  7, 14]])"
            ]
          },
          "metadata": {},
          "execution_count": 15
        }
      ]
    },
    {
      "cell_type": "code",
      "source": [
        "mn.resize(5,2)\n",
        "mn"
      ],
      "metadata": {
        "colab": {
          "base_uri": "https://localhost:8080/"
        },
        "id": "7zjJNfEgV56F",
        "outputId": "4e833bb8-bc5d-444f-e155-2a2e836a7544"
      },
      "execution_count": null,
      "outputs": [
        {
          "output_type": "execute_result",
          "data": {
            "text/plain": [
              "array([[11,  7],\n",
              "       [13,  8],\n",
              "       [10, 11],\n",
              "       [ 8,  5],\n",
              "       [ 7, 14]])"
            ]
          },
          "metadata": {},
          "execution_count": 17
        }
      ]
    },
    {
      "cell_type": "code",
      "source": [
        "mn=np.arange(64)\n",
        "mn"
      ],
      "metadata": {
        "colab": {
          "base_uri": "https://localhost:8080/"
        },
        "id": "Ksr_Y5waWSoU",
        "outputId": "d47299bf-3d7f-4c2a-efc7-1ded9ce7356c"
      },
      "execution_count": null,
      "outputs": [
        {
          "output_type": "execute_result",
          "data": {
            "text/plain": [
              "array([ 0,  1,  2,  3,  4,  5,  6,  7,  8,  9, 10, 11, 12, 13, 14, 15, 16,\n",
              "       17, 18, 19, 20, 21, 22, 23, 24, 25, 26, 27, 28, 29, 30, 31, 32, 33,\n",
              "       34, 35, 36, 37, 38, 39, 40, 41, 42, 43, 44, 45, 46, 47, 48, 49, 50,\n",
              "       51, 52, 53, 54, 55, 56, 57, 58, 59, 60, 61, 62, 63])"
            ]
          },
          "metadata": {},
          "execution_count": 18
        }
      ]
    },
    {
      "cell_type": "code",
      "source": [
        "mn.resize(8,8)\n",
        "mn"
      ],
      "metadata": {
        "colab": {
          "base_uri": "https://localhost:8080/"
        },
        "id": "lhhb85CzWZ8U",
        "outputId": "3ff9f706-f3dd-490c-c400-c0b138ef7800"
      },
      "execution_count": null,
      "outputs": [
        {
          "output_type": "execute_result",
          "data": {
            "text/plain": [
              "array([[ 0,  1,  2,  3,  4,  5,  6,  7],\n",
              "       [ 8,  9, 10, 11, 12, 13, 14, 15],\n",
              "       [16, 17, 18, 19, 20, 21, 22, 23],\n",
              "       [24, 25, 26, 27, 28, 29, 30, 31],\n",
              "       [32, 33, 34, 35, 36, 37, 38, 39],\n",
              "       [40, 41, 42, 43, 44, 45, 46, 47],\n",
              "       [48, 49, 50, 51, 52, 53, 54, 55],\n",
              "       [56, 57, 58, 59, 60, 61, 62, 63]])"
            ]
          },
          "metadata": {},
          "execution_count": 25
        }
      ]
    },
    {
      "cell_type": "code",
      "source": [
        "mn[2,3]"
      ],
      "metadata": {
        "colab": {
          "base_uri": "https://localhost:8080/"
        },
        "id": "kvsn9qWbWy2s",
        "outputId": "5ef1b97f-a553-4583-8cb2-b4f38507c2a6"
      },
      "execution_count": null,
      "outputs": [
        {
          "output_type": "execute_result",
          "data": {
            "text/plain": [
              "19"
            ]
          },
          "metadata": {},
          "execution_count": 21
        }
      ]
    },
    {
      "cell_type": "code",
      "source": [
        "mn[4,2:5]  #use : to select a range of rows or columns"
      ],
      "metadata": {
        "colab": {
          "base_uri": "https://localhost:8080/"
        },
        "id": "ci5ZjtnTYf1M",
        "outputId": "c18d12ef-1ec4-4e9e-9ec0-d29bd0e087c6"
      },
      "execution_count": null,
      "outputs": [
        {
          "output_type": "execute_result",
          "data": {
            "text/plain": [
              "array([34, 35, 36])"
            ]
          },
          "metadata": {},
          "execution_count": 22
        }
      ]
    },
    {
      "cell_type": "code",
      "source": [
        "mn[2:]"
      ],
      "metadata": {
        "colab": {
          "base_uri": "https://localhost:8080/"
        },
        "id": "q5oG7SiXafac",
        "outputId": "d722dabb-dbc8-4730-925d-1f953cb5cfb1"
      },
      "execution_count": null,
      "outputs": [
        {
          "output_type": "execute_result",
          "data": {
            "text/plain": [
              "array([[16, 17, 18, 19, 20, 21, 22, 23],\n",
              "       [24, 25, 26, 27, 28, 29, 30, 31],\n",
              "       [32, 33, 34, 35, 36, 37, 38, 39],\n",
              "       [40, 41, 42, 43, 44, 45, 46, 47],\n",
              "       [48, 49, 50, 51, 52, 53, 54, 55],\n",
              "       [56, 57, 58, 59, 60, 61, 62, 63]])"
            ]
          },
          "metadata": {},
          "execution_count": 23
        }
      ]
    },
    {
      "cell_type": "code",
      "source": [
        "mn[3:,3:]"
      ],
      "metadata": {
        "colab": {
          "base_uri": "https://localhost:8080/"
        },
        "id": "fsjJGIGAaqu0",
        "outputId": "0b002acc-369d-47d4-883e-735bec567f0d"
      },
      "execution_count": null,
      "outputs": [
        {
          "output_type": "execute_result",
          "data": {
            "text/plain": [
              "array([[27, 28, 29, 30, 31],\n",
              "       [35, 36, 37, 38, 39],\n",
              "       [43, 44, 45, 46, 47],\n",
              "       [51, 52, 53, 54, 55],\n",
              "       [59, 60, 61, 62, 63]])"
            ]
          },
          "metadata": {},
          "execution_count": 27
        }
      ]
    },
    {
      "cell_type": "code",
      "source": [
        "[mn > 25] #conditional indexing"
      ],
      "metadata": {
        "colab": {
          "base_uri": "https://localhost:8080/"
        },
        "id": "l_xmnZsNbL8e",
        "outputId": "467ee720-0a72-4f39-dfa7-31199451eb09"
      },
      "execution_count": null,
      "outputs": [
        {
          "output_type": "execute_result",
          "data": {
            "text/plain": [
              "[array([[False, False, False, False, False, False, False, False],\n",
              "        [False, False, False, False, False, False, False, False],\n",
              "        [False, False, False, False, False, False, False, False],\n",
              "        [False, False,  True,  True,  True,  True,  True,  True],\n",
              "        [ True,  True,  True,  True,  True,  True,  True,  True],\n",
              "        [ True,  True,  True,  True,  True,  True,  True,  True],\n",
              "        [ True,  True,  True,  True,  True,  True,  True,  True],\n",
              "        [ True,  True,  True,  True,  True,  True,  True,  True]])]"
            ]
          },
          "metadata": {},
          "execution_count": 28
        }
      ]
    },
    {
      "cell_type": "code",
      "source": [
        "mn[mn >25]"
      ],
      "metadata": {
        "colab": {
          "base_uri": "https://localhost:8080/"
        },
        "id": "E1S7ohKSbbW-",
        "outputId": "5aadfb6f-535b-4955-d1f1-274b749d55df"
      },
      "execution_count": null,
      "outputs": [
        {
          "output_type": "execute_result",
          "data": {
            "text/plain": [
              "array([26, 27, 28, 29, 30, 31, 32, 33, 34, 35, 36, 37, 38, 39, 40, 41, 42,\n",
              "       43, 44, 45, 46, 47, 48, 49, 50, 51, 52, 53, 54, 55, 56, 57, 58, 59,\n",
              "       60, 61, 62, 63])"
            ]
          },
          "metadata": {},
          "execution_count": 29
        }
      ]
    },
    {
      "cell_type": "markdown",
      "source": [
        "#**Numpy Broadcasting**"
      ],
      "metadata": {
        "id": "bo6ZAPqNbyls"
      }
    },
    {
      "cell_type": "code",
      "source": [
        "mn[mn > 25] = 25 #casting all the values that are greater than 25 to 25\n",
        "mn"
      ],
      "metadata": {
        "colab": {
          "base_uri": "https://localhost:8080/"
        },
        "id": "HdmTVxwocElM",
        "outputId": "9c8e1864-b37b-446f-89c2-00c9d36a8f8e"
      },
      "execution_count": null,
      "outputs": [
        {
          "output_type": "execute_result",
          "data": {
            "text/plain": [
              "array([[ 0,  1,  2,  3,  4,  5,  6,  7],\n",
              "       [ 8,  9, 10, 11, 12, 13, 14, 15],\n",
              "       [16, 17, 18, 19, 20, 21, 22, 23],\n",
              "       [24, 25, 25, 25, 25, 25, 25, 25],\n",
              "       [25, 25, 25, 25, 25, 25, 25, 25],\n",
              "       [25, 25, 25, 25, 25, 25, 25, 25],\n",
              "       [25, 25, 25, 25, 25, 25, 25, 25],\n",
              "       [25, 25, 25, 25, 25, 25, 25, 25]])"
            ]
          },
          "metadata": {},
          "execution_count": 30
        }
      ]
    },
    {
      "cell_type": "code",
      "source": [
        "mn[1:,4]"
      ],
      "metadata": {
        "colab": {
          "base_uri": "https://localhost:8080/"
        },
        "id": "Rj78EYv7cZqA",
        "outputId": "8aff61bd-5d5e-420b-f66f-4f10346ae63a"
      },
      "execution_count": null,
      "outputs": [
        {
          "output_type": "execute_result",
          "data": {
            "text/plain": [
              "array([12, 20, 25, 25, 25, 25, 25])"
            ]
          },
          "metadata": {},
          "execution_count": 31
        }
      ]
    },
    {
      "cell_type": "markdown",
      "source": [
        "#**Numpy: Creating a copy of a dataset**"
      ],
      "metadata": {
        "id": "hwDieu-scx0E"
      }
    },
    {
      "cell_type": "code",
      "source": [
        "mn1=mn[3:,3:]\n",
        "mn1"
      ],
      "metadata": {
        "colab": {
          "base_uri": "https://localhost:8080/"
        },
        "id": "pTqrrSx8dcFL",
        "outputId": "af3042bc-bba0-458b-9e5f-e8e19cd2946b"
      },
      "execution_count": null,
      "outputs": [
        {
          "output_type": "execute_result",
          "data": {
            "text/plain": [
              "array([[25, 25, 25, 25, 25],\n",
              "       [25, 25, 25, 25, 25],\n",
              "       [25, 25, 25, 25, 25],\n",
              "       [25, 25, 25, 25, 25],\n",
              "       [25, 25, 25, 25, 25]])"
            ]
          },
          "metadata": {},
          "execution_count": 32
        }
      ]
    },
    {
      "cell_type": "code",
      "source": [
        "mn_copy=mn.copy()\n",
        "mn_copy"
      ],
      "metadata": {
        "colab": {
          "base_uri": "https://localhost:8080/"
        },
        "id": "8FelVdyFd2RP",
        "outputId": "b357a51a-fa10-4100-d202-64266f7beabb"
      },
      "execution_count": null,
      "outputs": [
        {
          "output_type": "execute_result",
          "data": {
            "text/plain": [
              "array([[ 0,  1,  2,  3,  4,  5,  6,  7],\n",
              "       [ 8,  9, 10, 11, 12, 13, 14, 15],\n",
              "       [16, 17, 18, 19, 20, 21, 22, 23],\n",
              "       [24, 25, 25, 25, 25, 25, 25, 25],\n",
              "       [25, 25, 25, 25, 25, 25, 25, 25],\n",
              "       [25, 25, 25, 25, 25, 25, 25, 25],\n",
              "       [25, 25, 25, 25, 25, 25, 25, 25],\n",
              "       [25, 25, 25, 25, 25, 25, 25, 25]])"
            ]
          },
          "metadata": {},
          "execution_count": 33
        }
      ]
    },
    {
      "cell_type": "code",
      "source": [
        "mn_copy[mn_copy > 5] = 5  #Broadcasting all the numbers greater than 5 to 5\n",
        "mn_copy"
      ],
      "metadata": {
        "colab": {
          "base_uri": "https://localhost:8080/"
        },
        "id": "Rxw78au2eaKd",
        "outputId": "bb0a7c80-1102-4e0a-e11a-242946767de0"
      },
      "execution_count": null,
      "outputs": [
        {
          "output_type": "execute_result",
          "data": {
            "text/plain": [
              "array([[0, 1, 2, 3, 4, 5, 5, 5],\n",
              "       [5, 5, 5, 5, 5, 5, 5, 5],\n",
              "       [5, 5, 5, 5, 5, 5, 5, 5],\n",
              "       [5, 5, 5, 5, 5, 5, 5, 5],\n",
              "       [5, 5, 5, 5, 5, 5, 5, 5],\n",
              "       [5, 5, 5, 5, 5, 5, 5, 5],\n",
              "       [5, 5, 5, 5, 5, 5, 5, 5],\n",
              "       [5, 5, 5, 5, 5, 5, 5, 5]])"
            ]
          },
          "metadata": {},
          "execution_count": 34
        }
      ]
    },
    {
      "cell_type": "code",
      "source": [
        "mn #orignal data still intact"
      ],
      "metadata": {
        "colab": {
          "base_uri": "https://localhost:8080/"
        },
        "id": "IyW1bEzueyb-",
        "outputId": "accf2b08-59cf-4f4f-c78c-17580b84ae5a"
      },
      "execution_count": null,
      "outputs": [
        {
          "output_type": "execute_result",
          "data": {
            "text/plain": [
              "array([[ 0,  1,  2,  3,  4,  5,  6,  7],\n",
              "       [ 8,  9, 10, 11, 12, 13, 14, 15],\n",
              "       [16, 17, 18, 19, 20, 21, 22, 23],\n",
              "       [24, 25, 25, 25, 25, 25, 25, 25],\n",
              "       [25, 25, 25, 25, 25, 25, 25, 25],\n",
              "       [25, 25, 25, 25, 25, 25, 25, 25],\n",
              "       [25, 25, 25, 25, 25, 25, 25, 25],\n",
              "       [25, 25, 25, 25, 25, 25, 25, 25]])"
            ]
          },
          "metadata": {},
          "execution_count": 35
        }
      ]
    }
  ]
}