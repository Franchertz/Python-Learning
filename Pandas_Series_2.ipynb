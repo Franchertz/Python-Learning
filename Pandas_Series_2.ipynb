{
  "nbformat": 4,
  "nbformat_minor": 0,
  "metadata": {
    "colab": {
      "provenance": [],
      "authorship_tag": "ABX9TyNFlKF0VfbqKKijK1Xc3EX8",
      "include_colab_link": true
    },
    "kernelspec": {
      "name": "python3",
      "display_name": "Python 3"
    },
    "language_info": {
      "name": "python"
    }
  },
  "cells": [
    {
      "cell_type": "markdown",
      "metadata": {
        "id": "view-in-github",
        "colab_type": "text"
      },
      "source": [
        "<a href=\"https://colab.research.google.com/github/Franchertz/Python-Learning/blob/main/Pandas_Series_2.ipynb\" target=\"_parent\"><img src=\"https://colab.research.google.com/assets/colab-badge.svg\" alt=\"Open In Colab\"/></a>"
      ]
    },
    {
      "cell_type": "code",
      "execution_count": 1,
      "metadata": {
        "id": "SBaEtazXNZpq"
      },
      "outputs": [],
      "source": [
        "import pandas as pd\n",
        "import numpy as np"
      ]
    },
    {
      "cell_type": "code",
      "source": [
        "days = pd.Series(['Monday','Tuesday','Wednesday','Thursday','Friday'], index = ['Day1','Day2','Day3','Day4','Day5'])\n",
        "days"
      ],
      "metadata": {
        "colab": {
          "base_uri": "https://localhost:8080/"
        },
        "id": "QaMGyV2zOCgY",
        "outputId": "a71a2d32-c082-4dbc-a339-07cd17ec4855"
      },
      "execution_count": 4,
      "outputs": [
        {
          "output_type": "execute_result",
          "data": {
            "text/plain": [
              "Day1       Monday\n",
              "Day2      Tuesday\n",
              "Day3    Wednesday\n",
              "Day4     Thursday\n",
              "Day5       Friday\n",
              "dtype: object"
            ]
          },
          "metadata": {},
          "execution_count": 4
        }
      ]
    },
    {
      "cell_type": "code",
      "source": [
        "courses = pd.Series(['Economics','Geography','Finance','Mathematics','History'],index = 'Day1 Day2 Day3 Day4 Day5'.split())\n",
        "courses"
      ],
      "metadata": {
        "colab": {
          "base_uri": "https://localhost:8080/"
        },
        "id": "p0c6NDsZOCXh",
        "outputId": "0bf2dc00-df7b-4fe0-a736-338216f4bed9"
      },
      "execution_count": 5,
      "outputs": [
        {
          "output_type": "execute_result",
          "data": {
            "text/plain": [
              "Day1      Economics\n",
              "Day2      Geography\n",
              "Day3        Finance\n",
              "Day4    Mathematics\n",
              "Day5        History\n",
              "dtype: object"
            ]
          },
          "metadata": {},
          "execution_count": 5
        }
      ]
    },
    {
      "cell_type": "code",
      "source": [
        "days + courses   #concantenating(addition) based on index"
      ],
      "metadata": {
        "colab": {
          "base_uri": "https://localhost:8080/"
        },
        "id": "HXc5qxJIVc67",
        "outputId": "5cffb2ae-4b01-4b74-89b2-55462b90af63"
      },
      "execution_count": 6,
      "outputs": [
        {
          "output_type": "execute_result",
          "data": {
            "text/plain": [
              "Day1        MondayEconomics\n",
              "Day2       TuesdayGeography\n",
              "Day3       WednesdayFinance\n",
              "Day4    ThursdayMathematics\n",
              "Day5          FridayHistory\n",
              "dtype: object"
            ]
          },
          "metadata": {},
          "execution_count": 6
        }
      ]
    },
    {
      "cell_type": "code",
      "source": [
        "days  +  ' '  +  courses"
      ],
      "metadata": {
        "colab": {
          "base_uri": "https://localhost:8080/"
        },
        "id": "RKU922V5j_0g",
        "outputId": "85b0c283-d8a4-46f0-8a6b-c518ffad5cb0"
      },
      "execution_count": 8,
      "outputs": [
        {
          "output_type": "execute_result",
          "data": {
            "text/plain": [
              "Day1        Monday Economics\n",
              "Day2       Tuesday Geography\n",
              "Day3       Wednesday Finance\n",
              "Day4    Thursday Mathematics\n",
              "Day5          Friday History\n",
              "dtype: object"
            ]
          },
          "metadata": {},
          "execution_count": 8
        }
      ]
    },
    {
      "cell_type": "markdown",
      "source": [
        "You can also use merge to concantenate"
      ],
      "metadata": {
        "id": "je98A5VWkSxl"
      }
    },
    {
      "cell_type": "code",
      "source": [
        "courses"
      ],
      "metadata": {
        "colab": {
          "base_uri": "https://localhost:8080/"
        },
        "id": "19dYjZSKkbkX",
        "outputId": "f8d29f02-3ca4-4b37-fc96-8dd2b60866af"
      },
      "execution_count": 9,
      "outputs": [
        {
          "output_type": "execute_result",
          "data": {
            "text/plain": [
              "Day1      Economics\n",
              "Day2      Geography\n",
              "Day3        Finance\n",
              "Day4    Mathematics\n",
              "Day5        History\n",
              "dtype: object"
            ]
          },
          "metadata": {},
          "execution_count": 9
        }
      ]
    },
    {
      "cell_type": "code",
      "source": [
        "courses['Day5']"
      ],
      "metadata": {
        "colab": {
          "base_uri": "https://localhost:8080/",
          "height": 35
        },
        "id": "LEXoHIySkf4f",
        "outputId": "11b10e10-d410-4f50-cc70-f8f9ad53d339"
      },
      "execution_count": 10,
      "outputs": [
        {
          "output_type": "execute_result",
          "data": {
            "text/plain": [
              "'History'"
            ],
            "application/vnd.google.colaboratory.intrinsic+json": {
              "type": "string"
            }
          },
          "metadata": {},
          "execution_count": 10
        }
      ]
    },
    {
      "cell_type": "code",
      "source": [
        "days"
      ],
      "metadata": {
        "colab": {
          "base_uri": "https://localhost:8080/"
        },
        "id": "yGbLq9G8kfqn",
        "outputId": "8ce5b414-c2fd-408c-faa9-f6d075a72362"
      },
      "execution_count": 11,
      "outputs": [
        {
          "output_type": "execute_result",
          "data": {
            "text/plain": [
              "Day1       Monday\n",
              "Day2      Tuesday\n",
              "Day3    Wednesday\n",
              "Day4     Thursday\n",
              "Day5       Friday\n",
              "dtype: object"
            ]
          },
          "metadata": {},
          "execution_count": 11
        }
      ]
    },
    {
      "cell_type": "code",
      "source": [
        "days['Day3']"
      ],
      "metadata": {
        "colab": {
          "base_uri": "https://localhost:8080/",
          "height": 35
        },
        "id": "xlq0TchwlC7_",
        "outputId": "571293e9-a94a-4d59-8de6-c644ccf8e86e"
      },
      "execution_count": 12,
      "outputs": [
        {
          "output_type": "execute_result",
          "data": {
            "text/plain": [
              "'Wednesday'"
            ],
            "application/vnd.google.colaboratory.intrinsic+json": {
              "type": "string"
            }
          },
          "metadata": {},
          "execution_count": 12
        }
      ]
    }
  ]
}