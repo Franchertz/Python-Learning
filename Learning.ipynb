{
  "nbformat": 4,
  "nbformat_minor": 0,
  "metadata": {
    "colab": {
      "provenance": [],
      "authorship_tag": "ABX9TyM5KqhhIX3WGLBlqp22UpWF",
      "include_colab_link": true
    },
    "kernelspec": {
      "name": "python3",
      "display_name": "Python 3"
    },
    "language_info": {
      "name": "python"
    }
  },
  "cells": [
    {
      "cell_type": "markdown",
      "metadata": {
        "id": "view-in-github",
        "colab_type": "text"
      },
      "source": [
        "<a href=\"https://colab.research.google.com/github/Franchertz/Python-Learning/blob/main/Learning.ipynb\" target=\"_parent\"><img src=\"https://colab.research.google.com/assets/colab-badge.svg\" alt=\"Open In Colab\"/></a>"
      ]
    },
    {
      "cell_type": "code",
      "execution_count": null,
      "metadata": {
        "id": "TXltpFrK4yN4"
      },
      "outputs": [],
      "source": [
        "my_variables=(1,3,5,7,9)\n"
      ]
    },
    {
      "cell_type": "code",
      "source": [
        "my_variables"
      ],
      "metadata": {
        "colab": {
          "base_uri": "https://localhost:8080/"
        },
        "id": "5pGUhDAh4zjb",
        "outputId": "dc0c7bfd-ead8-4244-b82b-714a334f93f3"
      },
      "execution_count": null,
      "outputs": [
        {
          "output_type": "execute_result",
          "data": {
            "text/plain": [
              "(1, 3, 5, 7, 9)"
            ]
          },
          "metadata": {},
          "execution_count": 2
        }
      ]
    },
    {
      "cell_type": "code",
      "source": [
        "records=['name','date','location']"
      ],
      "metadata": {
        "id": "-LwbeskG4zsq"
      },
      "execution_count": null,
      "outputs": []
    },
    {
      "cell_type": "code",
      "source": [
        "records"
      ],
      "metadata": {
        "colab": {
          "base_uri": "https://localhost:8080/"
        },
        "id": "epSB79754z1K",
        "outputId": "40fa79fb-a727-47e3-a7ac-0724ea4bb086"
      },
      "execution_count": null,
      "outputs": [
        {
          "output_type": "execute_result",
          "data": {
            "text/plain": [
              "['name', 'date', 'location']"
            ]
          },
          "metadata": {},
          "execution_count": 4
        }
      ]
    },
    {
      "cell_type": "code",
      "source": [
        "#adding two numbers below:\n",
        "c=23 + 8\n",
        "\n",
        "print('the answer is:  ', c)\n"
      ],
      "metadata": {
        "colab": {
          "base_uri": "https://localhost:8080/"
        },
        "id": "8Mbylh3T8uod",
        "outputId": "f297c263-51b4-4072-d08f-2d203c68d4a0"
      },
      "execution_count": null,
      "outputs": [
        {
          "output_type": "stream",
          "name": "stdout",
          "text": [
            "the answer is:   31\n"
          ]
        }
      ]
    },
    {
      "cell_type": "code",
      "source": [],
      "metadata": {
        "id": "rtau4bqT8urc"
      },
      "execution_count": null,
      "outputs": []
    },
    {
      "cell_type": "code",
      "source": [
        "def add(a,b):\n",
        "  \"\"\"Function to add two numbers\"\"\"\n",
        "  add = a + b\n",
        "  return add"
      ],
      "metadata": {
        "id": "EjQEY1q88uxO"
      },
      "execution_count": null,
      "outputs": []
    },
    {
      "cell_type": "code",
      "source": [
        "add(52,68)"
      ],
      "metadata": {
        "colab": {
          "base_uri": "https://localhost:8080/"
        },
        "id": "27Uo8zZp8uzw",
        "outputId": "c840a94e-c7ce-45bd-ef0a-7ab1c1094a8d"
      },
      "execution_count": null,
      "outputs": [
        {
          "output_type": "execute_result",
          "data": {
            "text/plain": [
              "120"
            ]
          },
          "metadata": {},
          "execution_count": 9
        }
      ]
    },
    {
      "cell_type": "code",
      "source": [
        "def add(a,b):\n",
        "  \"\"\"Function to add two numbers\"\"\"\n",
        "  add = a + b\n",
        "  return add"
      ],
      "metadata": {
        "id": "5vTwCG9pOkoj"
      },
      "execution_count": null,
      "outputs": []
    },
    {
      "cell_type": "code",
      "source": [
        "add.__doc__"
      ],
      "metadata": {
        "id": "O49mgP388u3B",
        "colab": {
          "base_uri": "https://localhost:8080/",
          "height": 35
        },
        "outputId": "4296a6be-a584-48fc-c1e6-e3aab0631c3f"
      },
      "execution_count": null,
      "outputs": [
        {
          "output_type": "execute_result",
          "data": {
            "text/plain": [
              "'Function to add two numbers'"
            ],
            "application/vnd.google.colaboratory.intrinsic+json": {
              "type": "string"
            }
          },
          "metadata": {},
          "execution_count": 4
        }
      ]
    },
    {
      "cell_type": "code",
      "source": [
        "my_variable = 27"
      ],
      "metadata": {
        "id": "MXFT2mxyPPKb"
      },
      "execution_count": null,
      "outputs": []
    },
    {
      "cell_type": "code",
      "source": [
        "my_variable"
      ],
      "metadata": {
        "colab": {
          "base_uri": "https://localhost:8080/"
        },
        "id": "899O22f9PPNT",
        "outputId": "3b34ce54-2127-45aa-e557-7d172af57b34"
      },
      "execution_count": null,
      "outputs": [
        {
          "output_type": "execute_result",
          "data": {
            "text/plain": [
              "27"
            ]
          },
          "metadata": {},
          "execution_count": 6
        }
      ]
    },
    {
      "cell_type": "code",
      "source": [
        "print(id(my_variable))"
      ],
      "metadata": {
        "colab": {
          "base_uri": "https://localhost:8080/"
        },
        "id": "3AiM_o4gPPQV",
        "outputId": "e5e5e6b5-c8fd-4a73-ca7e-911a9d5d4233"
      },
      "execution_count": null,
      "outputs": [
        {
          "output_type": "stream",
          "name": "stdout",
          "text": [
            "139762478795888\n"
          ]
        }
      ]
    },
    {
      "cell_type": "code",
      "source": [
        "company = 'Secure Solutions'"
      ],
      "metadata": {
        "id": "9be4pJmZPjCU"
      },
      "execution_count": null,
      "outputs": []
    },
    {
      "cell_type": "code",
      "source": [
        "company"
      ],
      "metadata": {
        "colab": {
          "base_uri": "https://localhost:8080/",
          "height": 35
        },
        "id": "QMeSY0sJPjE9",
        "outputId": "223e0a9c-39ef-4de4-f4f6-f6302f0af931"
      },
      "execution_count": null,
      "outputs": [
        {
          "output_type": "execute_result",
          "data": {
            "text/plain": [
              "'Secure Solutions'"
            ],
            "application/vnd.google.colaboratory.intrinsic+json": {
              "type": "string"
            }
          },
          "metadata": {},
          "execution_count": 9
        }
      ]
    },
    {
      "cell_type": "code",
      "source": [
        "name = 'MrFrankie'"
      ],
      "metadata": {
        "id": "DT9Rf6myQLPs"
      },
      "execution_count": null,
      "outputs": []
    },
    {
      "cell_type": "code",
      "source": [
        "name"
      ],
      "metadata": {
        "colab": {
          "base_uri": "https://localhost:8080/",
          "height": 35
        },
        "id": "rNrEHhL8QLSj",
        "outputId": "15cab28e-9741-4f13-9b2e-5780d562aea1"
      },
      "execution_count": null,
      "outputs": [
        {
          "output_type": "execute_result",
          "data": {
            "text/plain": [
              "'MrFrankie'"
            ],
            "application/vnd.google.colaboratory.intrinsic+json": {
              "type": "string"
            }
          },
          "metadata": {},
          "execution_count": 11
        }
      ]
    },
    {
      "cell_type": "code",
      "source": [
        "a,b,c = 103,'SSG', 20\n",
        "#Assigning multiple values to multiple variables\n"
      ],
      "metadata": {
        "id": "ytwjblE0QLZK"
      },
      "execution_count": null,
      "outputs": []
    },
    {
      "cell_type": "code",
      "source": [
        "print(a)\n",
        "print(b)\n",
        "print(c)\n"
      ],
      "metadata": {
        "colab": {
          "base_uri": "https://localhost:8080/"
        },
        "id": "LmtjwmebRADn",
        "outputId": "86d95688-1760-4c9e-d7e4-601d7d939c8e"
      },
      "execution_count": null,
      "outputs": [
        {
          "output_type": "stream",
          "name": "stdout",
          "text": [
            "103\n",
            "SSG\n",
            "20\n"
          ]
        }
      ]
    },
    {
      "cell_type": "code",
      "source": [
        "a,b,c.__doc__"
      ],
      "metadata": {
        "colab": {
          "base_uri": "https://localhost:8080/"
        },
        "id": "4fQEZ2r8RAAX",
        "outputId": "cf45ab7f-6f18-45fb-dda3-e54cc0cf32a4"
      },
      "execution_count": null,
      "outputs": [
        {
          "output_type": "execute_result",
          "data": {
            "text/plain": [
              "(103,\n",
              " 'SSG',\n",
              " \"int([x]) -> integer\\nint(x, base=10) -> integer\\n\\nConvert a number or string to an integer, or return 0 if no arguments\\nare given.  If x is a number, return x.__int__().  For floating point\\nnumbers, this truncates towards zero.\\n\\nIf x is not a number or if base is given, then x must be a string,\\nbytes, or bytearray instance representing an integer literal in the\\ngiven base.  The literal can be preceded by '+' or '-' and be surrounded\\nby whitespace.  The base defaults to 10.  Valid bases are 0 and 2-36.\\nBase 0 means to interpret the base from the string as an integer literal.\\n>>> int('0b100', base=0)\\n4\")"
            ]
          },
          "metadata": {},
          "execution_count": 28
        }
      ]
    },
    {
      "cell_type": "code",
      "source": [
        "a = ['Red', 'Green', 'Blue']\n",
        "#Better written as \n"
      ],
      "metadata": {
        "id": "VDHsfsrpQ_9L"
      },
      "execution_count": null,
      "outputs": []
    },
    {
      "cell_type": "code",
      "source": [
        "colours = ['Red', 'Green', 'Blue']"
      ],
      "metadata": {
        "id": "31gDREycUTcJ"
      },
      "execution_count": null,
      "outputs": []
    },
    {
      "cell_type": "code",
      "source": [
        "b = ['Female', 'Male']\n",
        "#Better written as\n"
      ],
      "metadata": {
        "id": "iqiOBVwHShgY"
      },
      "execution_count": null,
      "outputs": []
    },
    {
      "cell_type": "code",
      "source": [
        "gender = ['Female', 'Male']"
      ],
      "metadata": {
        "id": "IxUSYG6vShU_"
      },
      "execution_count": null,
      "outputs": []
    },
    {
      "cell_type": "code",
      "source": [
        "european_countries=['Spain', 'United kingdom', 'Italy', 'Holland']"
      ],
      "metadata": {
        "id": "aKQ3NWgHShPB"
      },
      "execution_count": null,
      "outputs": []
    },
    {
      "cell_type": "code",
      "source": [
        "my_beautiful_colours=['Indigo', 'Red', 'Green', 'Pink', 'Blue']"
      ],
      "metadata": {
        "id": "vKkT2KfEPjIR"
      },
      "execution_count": null,
      "outputs": []
    },
    {
      "cell_type": "code",
      "source": [
        "my_beautiful_colours"
      ],
      "metadata": {
        "colab": {
          "base_uri": "https://localhost:8080/"
        },
        "id": "dUeBKVfgVn__",
        "outputId": "7fb13d88-cbd2-43db-ce75-f90533880e91"
      },
      "execution_count": null,
      "outputs": [
        {
          "output_type": "execute_result",
          "data": {
            "text/plain": [
              "['Indigo', 'Red', 'Green', 'Pink', 'Blue']"
            ]
          },
          "metadata": {},
          "execution_count": 20
        }
      ]
    },
    {
      "cell_type": "code",
      "source": [
        "#Output Function\n",
        "number1 = 30\n",
        "number2 = 50\n",
        "multiplication = number1*number2\n",
        "\n",
        "multiplication"
      ],
      "metadata": {
        "colab": {
          "base_uri": "https://localhost:8080/"
        },
        "id": "ZPKC8U_FVn88",
        "outputId": "1948b446-c6ef-4a21-ad0f-320c8bf99642"
      },
      "execution_count": null,
      "outputs": [
        {
          "output_type": "execute_result",
          "data": {
            "text/plain": [
              "1500"
            ]
          },
          "metadata": {},
          "execution_count": 29
        }
      ]
    },
    {
      "cell_type": "code",
      "source": [
        "print( 'The result ofthe multiplication is : ',multiplication)"
      ],
      "metadata": {
        "colab": {
          "base_uri": "https://localhost:8080/"
        },
        "id": "CLn670uAVn6h",
        "outputId": "18ac76c9-6926-4565-ad93-6c3bcd8538bf"
      },
      "execution_count": null,
      "outputs": [
        {
          "output_type": "stream",
          "name": "stdout",
          "text": [
            "The result ofthe multiplication is :  1500\n"
          ]
        }
      ]
    },
    {
      "cell_type": "code",
      "source": [
        "#Input function\n",
        "user_number = input('Enter a number')\n",
        "print('Your number is :', user_number)\n"
      ],
      "metadata": {
        "colab": {
          "base_uri": "https://localhost:8080/"
        },
        "id": "DpYByKjLbwsQ",
        "outputId": "5af991b4-8f69-466f-f9fd-81df6b85c2ff"
      },
      "execution_count": null,
      "outputs": [
        {
          "output_type": "stream",
          "name": "stdout",
          "text": [
            "Enter a number700\n",
            "Your number is : 700\n"
          ]
        }
      ]
    },
    {
      "cell_type": "code",
      "source": [
        "user_password = input('Enter password')\n",
        "print('Your password is : ', user_password)"
      ],
      "metadata": {
        "colab": {
          "base_uri": "https://localhost:8080/"
        },
        "id": "jfhIpfZSbwhm",
        "outputId": "ea6dfe00-1978-4310-c628-39890cbd5d52"
      },
      "execution_count": null,
      "outputs": [
        {
          "output_type": "stream",
          "name": "stdout",
          "text": [
            "Enter password@711#James\n",
            "Your password is :  @711#James\n"
          ]
        }
      ]
    },
    {
      "cell_type": "code",
      "source": [
        "#For a more complex situation\n",
        "quantity = int(input('Enter quantity'))\n",
        "size = int(input('Enter size'))\n",
        "discount = 0.50\n",
        "Price = quantity*size*discount\n",
        "print('Your item cost is :', '$', Price)"
      ],
      "metadata": {
        "colab": {
          "base_uri": "https://localhost:8080/"
        },
        "id": "acFRH0PtbwUX",
        "outputId": "e35433ff-2f80-4288-a44c-72ba54f5827d"
      },
      "execution_count": null,
      "outputs": [
        {
          "output_type": "stream",
          "name": "stdout",
          "text": [
            "Enter quantity80\n",
            "Enter size45\n",
            "Your item cost is : $ 1800.0\n"
          ]
        }
      ]
    },
    {
      "cell_type": "code",
      "source": [
        "#import function\n",
        "numbers =[2,1,5,6,8,7,9,12,11,14]\n",
        "\n",
        "#Finding the mean\n",
        "\n",
        "mean = (2+1+5+6+8+7+9+12+11+14)/10\n",
        "print(mean)"
      ],
      "metadata": {
        "colab": {
          "base_uri": "https://localhost:8080/"
        },
        "id": "8k_uu39JVn38",
        "outputId": "2a506321-33c2-444c-e076-920dfc4f8cf5"
      },
      "execution_count": null,
      "outputs": [
        {
          "output_type": "stream",
          "name": "stdout",
          "text": [
            "7.5\n"
          ]
        }
      ]
    },
    {
      "cell_type": "code",
      "source": [
        "#alternatively importing inbuilt funtions to calculate the above\n",
        "\n",
        "import statistics as s\n",
        "\n",
        "mean = s.mean(numbers)\n",
        "\n",
        "print(mean)"
      ],
      "metadata": {
        "colab": {
          "base_uri": "https://localhost:8080/"
        },
        "id": "frlTzegHVn0u",
        "outputId": "bac6849e-3576-4d27-eafa-029d994c8d4b"
      },
      "execution_count": null,
      "outputs": [
        {
          "output_type": "stream",
          "name": "stdout",
          "text": [
            "7.5\n"
          ]
        }
      ]
    },
    {
      "cell_type": "code",
      "source": [
        "#Arithmetic operators\n",
        "#examples +,-,*,/,%,**\n",
        "\n",
        "100 + 78\n",
        "\n"
      ],
      "metadata": {
        "colab": {
          "base_uri": "https://localhost:8080/"
        },
        "id": "xOrv1K37Vnxq",
        "outputId": "dcb98f8b-6964-4184-c5ac-90502e8aaf3f"
      },
      "execution_count": null,
      "outputs": [
        {
          "output_type": "execute_result",
          "data": {
            "text/plain": [
              "178"
            ]
          },
          "metadata": {},
          "execution_count": 43
        }
      ]
    },
    {
      "cell_type": "code",
      "source": [
        "25/5"
      ],
      "metadata": {
        "id": "xICsU98HsWE-",
        "outputId": "233dbe57-67fd-42b3-f9a2-b738597727d0",
        "colab": {
          "base_uri": "https://localhost:8080/"
        }
      },
      "execution_count": null,
      "outputs": [
        {
          "output_type": "execute_result",
          "data": {
            "text/plain": [
              "5.0"
            ]
          },
          "metadata": {},
          "execution_count": 44
        }
      ]
    },
    {
      "cell_type": "code",
      "source": [
        "5**2\n"
      ],
      "metadata": {
        "id": "0W-GTKfUsV9C",
        "outputId": "465ee8dd-0332-454f-9d43-f6942634246d",
        "colab": {
          "base_uri": "https://localhost:8080/"
        }
      },
      "execution_count": null,
      "outputs": [
        {
          "output_type": "execute_result",
          "data": {
            "text/plain": [
              "25"
            ]
          },
          "metadata": {},
          "execution_count": 45
        }
      ]
    },
    {
      "cell_type": "code",
      "source": [
        "#Comparison operators, usually true or false\n",
        "\n",
        "45==7"
      ],
      "metadata": {
        "colab": {
          "base_uri": "https://localhost:8080/"
        },
        "id": "52Jqqwu7VnuR",
        "outputId": "c7313355-af35-41a7-bd7f-4ef07344eb53"
      },
      "execution_count": null,
      "outputs": [
        {
          "output_type": "execute_result",
          "data": {
            "text/plain": [
              "False"
            ]
          },
          "metadata": {},
          "execution_count": 46
        }
      ]
    },
    {
      "cell_type": "code",
      "source": [
        "45 == 45"
      ],
      "metadata": {
        "id": "v0KrDrnGtaQo",
        "outputId": "49141803-72df-4eac-c3f0-aa6e1456c601",
        "colab": {
          "base_uri": "https://localhost:8080/"
        }
      },
      "execution_count": null,
      "outputs": [
        {
          "output_type": "execute_result",
          "data": {
            "text/plain": [
              "True"
            ]
          },
          "metadata": {},
          "execution_count": 47
        }
      ]
    },
    {
      "cell_type": "code",
      "source": [
        "45 >= 7"
      ],
      "metadata": {
        "id": "pPAEBiD_taKk",
        "outputId": "b84e7791-4f59-4076-92ed-55a8677faae9",
        "colab": {
          "base_uri": "https://localhost:8080/"
        }
      },
      "execution_count": null,
      "outputs": [
        {
          "output_type": "execute_result",
          "data": {
            "text/plain": [
              "True"
            ]
          },
          "metadata": {},
          "execution_count": 48
        }
      ]
    },
    {
      "cell_type": "code",
      "source": [
        "45 != 7"
      ],
      "metadata": {
        "id": "sKhlDMI2taGG",
        "outputId": "a0ccad38-38e7-4a80-d164-99ef1e424af0",
        "colab": {
          "base_uri": "https://localhost:8080/"
        }
      },
      "execution_count": null,
      "outputs": [
        {
          "output_type": "execute_result",
          "data": {
            "text/plain": [
              "True"
            ]
          },
          "metadata": {},
          "execution_count": 49
        }
      ]
    },
    {
      "cell_type": "code",
      "source": [
        "#logical operators, usually conditional statement examples and,or,not\n",
        "\n",
        "a = 65\n",
        "b = 15\n",
        "c = 8\n",
        "#all of the conditions must be met\n",
        "if a > b and b > c:\n",
        "  print('This statement is true')\n",
        "\n",
        "if a > 14 and b < 20 and c > 10:\n",
        "  print(\"This statement is true\")\n",
        "else:\n",
        "  print('This statement is not true')"
      ],
      "metadata": {
        "id": "OlTl_M4RtaEN",
        "outputId": "edde66a5-bd36-44cc-cd4c-a0639fe23463",
        "colab": {
          "base_uri": "https://localhost:8080/"
        }
      },
      "execution_count": null,
      "outputs": [
        {
          "output_type": "stream",
          "name": "stdout",
          "text": [
            "This statement is true\n",
            "This statement is not true\n"
          ]
        }
      ]
    },
    {
      "cell_type": "code",
      "source": [
        "a = 65\n",
        "b = 15\n",
        "c = 8\n",
        "#anyone of the conditions can be met\n",
        "if a > b and b > c:\n",
        "  print('This statement is true')\n",
        "\n",
        "if a < 14 or b > 20 or c < 10:\n",
        "  print(\"This statement is true\")\n",
        "else:\n",
        "  print('This statement is not true')"
      ],
      "metadata": {
        "id": "AbVej_aytaCv",
        "outputId": "d7d925a7-185a-4932-e84c-411b9543aa23",
        "colab": {
          "base_uri": "https://localhost:8080/"
        }
      },
      "execution_count": null,
      "outputs": [
        {
          "output_type": "stream",
          "name": "stdout",
          "text": [
            "This statement is true\n",
            "This statement is true\n"
          ]
        }
      ]
    },
    {
      "cell_type": "code",
      "source": [
        "#Bitwise operators, &(and),|(or),~(not),^(XOR),>>(right shift),<<(left shift)\n",
        "\n",
        "marks = float(input('Enter marks'))\n",
        "\n",
        "# |\n",
        "\n",
        "if (marks==100) | (marks > 50):\n",
        "  print('You have passed your python test')\n",
        "else:\n",
        "  print('Please try again')\n"
      ],
      "metadata": {
        "id": "wMkpOt3OtaAr",
        "outputId": "7a901b11-593e-40f7-900e-f1207c9dbc99",
        "colab": {
          "base_uri": "https://localhost:8080/"
        }
      },
      "execution_count": null,
      "outputs": [
        {
          "output_type": "stream",
          "name": "stdout",
          "text": [
            "Enter marks87\n",
            "You have passed your python test\n"
          ]
        }
      ]
    },
    {
      "cell_type": "code",
      "source": [
        "marks = float(input('Enter marks'))\n",
        "attendance = int(input('Enter total attendance'))\n",
        "# &\n",
        "\n",
        "if (marks > 50) & (attendance > 70):\n",
        "  print('You have passed your python test')\n",
        "else:\n",
        "  print('Please try again')\n"
      ],
      "metadata": {
        "id": "p6d--h14tZ3Z",
        "outputId": "875d726c-ef7f-45b2-bb66-6679feba55db",
        "colab": {
          "base_uri": "https://localhost:8080/"
        }
      },
      "execution_count": null,
      "outputs": [
        {
          "output_type": "stream",
          "name": "stdout",
          "text": [
            "Enter marks90\n",
            "Enter total attendance65\n",
            "Please try again\n"
          ]
        }
      ]
    },
    {
      "cell_type": "code",
      "source": [
        "marks = float(input('Enter marks'))\n",
        "attendance = int(input('Enter total attendance'))\n",
        "# &\n",
        "\n",
        "if (marks > 50) & (attendance > 0.50*attendance):\n",
        "  print('You have passed your python test')\n",
        "else:\n",
        "  print('Please try again')"
      ],
      "metadata": {
        "id": "-ytH3LkStZ1m",
        "outputId": "fa4af5b9-c148-409d-8667-7a6064b39515",
        "colab": {
          "base_uri": "https://localhost:8080/"
        }
      },
      "execution_count": null,
      "outputs": [
        {
          "output_type": "stream",
          "name": "stdout",
          "text": [
            "Enter marks50\n",
            "Enter total attendance120\n",
            "Please try again\n"
          ]
        }
      ]
    },
    {
      "cell_type": "code",
      "source": [],
      "metadata": {
        "id": "9ScpAl6wtZxW"
      },
      "execution_count": null,
      "outputs": []
    },
    {
      "cell_type": "code",
      "source": [],
      "metadata": {
        "id": "XhCh47VttZvY"
      },
      "execution_count": null,
      "outputs": []
    },
    {
      "cell_type": "code",
      "source": [],
      "metadata": {
        "id": "ytaB9y5atZph"
      },
      "execution_count": null,
      "outputs": []
    }
  ]
}