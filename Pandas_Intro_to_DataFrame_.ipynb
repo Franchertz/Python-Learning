{
  "nbformat": 4,
  "nbformat_minor": 0,
  "metadata": {
    "colab": {
      "provenance": [],
      "authorship_tag": "ABX9TyOpQhuj5WmoVtXKVhC67hYc",
      "include_colab_link": true
    },
    "kernelspec": {
      "name": "python3",
      "display_name": "Python 3"
    },
    "language_info": {
      "name": "python"
    }
  },
  "cells": [
    {
      "cell_type": "markdown",
      "metadata": {
        "id": "view-in-github",
        "colab_type": "text"
      },
      "source": [
        "<a href=\"https://colab.research.google.com/github/Franchertz/Python-Learning/blob/main/Pandas_Intro_to_DataFrame_.ipynb\" target=\"_parent\"><img src=\"https://colab.research.google.com/assets/colab-badge.svg\" alt=\"Open In Colab\"/></a>"
      ]
    },
    {
      "cell_type": "markdown",
      "source": [
        "#**DataFrames**\n",
        "* Two-dimensional\n",
        "* Size is adjustable or changeable or mutable\n",
        "* Table data is heterogenous\n",
        "\n",
        "#**Its Data Structure contains:**\n",
        "* labeled axes(rows and columns)\n",
        "* Arithmetics operations align on both row and column labels.\n",
        "* dict-like container for series objects.\n",
        "\n"
      ],
      "metadata": {
        "id": "zYaI3SA00ZQh"
      }
    },
    {
      "cell_type": "code",
      "source": [
        "import pandas as pd\n",
        "import numpy as np"
      ],
      "metadata": {
        "id": "EL4GQnmWLXPV"
      },
      "execution_count": 1,
      "outputs": []
    },
    {
      "cell_type": "code",
      "source": [
        "np.random.randn(10,5)  #10x5"
      ],
      "metadata": {
        "colab": {
          "base_uri": "https://localhost:8080/"
        },
        "id": "NuZDWsyTLwLN",
        "outputId": "07f85f98-9d85-44e4-a16e-101008809bfa"
      },
      "execution_count": 2,
      "outputs": [
        {
          "output_type": "execute_result",
          "data": {
            "text/plain": [
              "array([[ 0.93659669,  0.75663373, -0.50421502, -0.80429526,  0.42289138],\n",
              "       [ 0.06432127, -0.04807585, -1.31275622,  0.43872349, -0.76705541],\n",
              "       [-1.08612175,  0.68288373,  1.172107  ,  0.92757266,  0.55752888],\n",
              "       [ 1.22356437,  0.19110156,  0.0298819 ,  0.3179215 ,  0.4215302 ],\n",
              "       [ 0.02371546,  0.03179797, -0.09304969,  1.24600414,  0.28033762],\n",
              "       [-2.32030392,  1.05983078, -1.61450547, -0.83074874, -0.65422638],\n",
              "       [ 0.45286094, -0.16771479, -0.1184661 ,  1.21637996, -0.64972685],\n",
              "       [-1.18109888, -1.47459866,  1.4055903 , -1.21492739, -1.11338051],\n",
              "       [ 0.13041804,  1.39778466, -2.04002298, -1.02048656,  2.1316676 ],\n",
              "       [-0.10210451, -0.38399639,  1.2412913 ,  1.09024979,  0.3945333 ]])"
            ]
          },
          "metadata": {},
          "execution_count": 2
        }
      ]
    },
    {
      "cell_type": "code",
      "source": [
        "my_dataframe = pd.DataFrame(np.random.randn(10,5), index='row1 row2 row3 row4 row5 row6 row7 row8 row9 row10'.split(),\n",
        "                            columns='column1 column2 column3 column4 column5'.split())\n",
        "\n",
        "my_dataframe"
      ],
      "metadata": {
        "colab": {
          "base_uri": "https://localhost:8080/",
          "height": 363
        },
        "id": "Av-rABz9M37-",
        "outputId": "ef2f5c73-a18e-42bd-d15d-cddd5a1df5d7"
      },
      "execution_count": 4,
      "outputs": [
        {
          "output_type": "execute_result",
          "data": {
            "text/plain": [
              "        column1   column2   column3   column4   column5\n",
              "row1   1.404865 -0.321498 -1.151269 -0.053874  0.721245\n",
              "row2  -1.987113  0.448908  0.583150  0.988568  0.487269\n",
              "row3  -2.585981 -2.125365 -0.989814  1.386448 -1.557369\n",
              "row4  -0.768248  0.564698  1.221859 -2.149912  0.058118\n",
              "row5   1.174006  0.083230  0.819525 -1.335276 -0.604342\n",
              "row6  -0.062484 -1.903794 -0.243156  1.047952 -1.636715\n",
              "row7   1.441948  0.080621 -0.562724 -0.261057  0.872266\n",
              "row8   0.196538  0.952820  0.139301 -0.604837  1.449998\n",
              "row9   0.792733 -0.713530 -0.959949  0.772298 -0.281391\n",
              "row10  1.517276  0.139866 -0.075683 -1.451798  1.016599"
            ],
            "text/html": [
              "\n",
              "  <div id=\"df-49eb25b0-8928-44ed-a68a-5263bec3f449\">\n",
              "    <div class=\"colab-df-container\">\n",
              "      <div>\n",
              "<style scoped>\n",
              "    .dataframe tbody tr th:only-of-type {\n",
              "        vertical-align: middle;\n",
              "    }\n",
              "\n",
              "    .dataframe tbody tr th {\n",
              "        vertical-align: top;\n",
              "    }\n",
              "\n",
              "    .dataframe thead th {\n",
              "        text-align: right;\n",
              "    }\n",
              "</style>\n",
              "<table border=\"1\" class=\"dataframe\">\n",
              "  <thead>\n",
              "    <tr style=\"text-align: right;\">\n",
              "      <th></th>\n",
              "      <th>column1</th>\n",
              "      <th>column2</th>\n",
              "      <th>column3</th>\n",
              "      <th>column4</th>\n",
              "      <th>column5</th>\n",
              "    </tr>\n",
              "  </thead>\n",
              "  <tbody>\n",
              "    <tr>\n",
              "      <th>row1</th>\n",
              "      <td>1.404865</td>\n",
              "      <td>-0.321498</td>\n",
              "      <td>-1.151269</td>\n",
              "      <td>-0.053874</td>\n",
              "      <td>0.721245</td>\n",
              "    </tr>\n",
              "    <tr>\n",
              "      <th>row2</th>\n",
              "      <td>-1.987113</td>\n",
              "      <td>0.448908</td>\n",
              "      <td>0.583150</td>\n",
              "      <td>0.988568</td>\n",
              "      <td>0.487269</td>\n",
              "    </tr>\n",
              "    <tr>\n",
              "      <th>row3</th>\n",
              "      <td>-2.585981</td>\n",
              "      <td>-2.125365</td>\n",
              "      <td>-0.989814</td>\n",
              "      <td>1.386448</td>\n",
              "      <td>-1.557369</td>\n",
              "    </tr>\n",
              "    <tr>\n",
              "      <th>row4</th>\n",
              "      <td>-0.768248</td>\n",
              "      <td>0.564698</td>\n",
              "      <td>1.221859</td>\n",
              "      <td>-2.149912</td>\n",
              "      <td>0.058118</td>\n",
              "    </tr>\n",
              "    <tr>\n",
              "      <th>row5</th>\n",
              "      <td>1.174006</td>\n",
              "      <td>0.083230</td>\n",
              "      <td>0.819525</td>\n",
              "      <td>-1.335276</td>\n",
              "      <td>-0.604342</td>\n",
              "    </tr>\n",
              "    <tr>\n",
              "      <th>row6</th>\n",
              "      <td>-0.062484</td>\n",
              "      <td>-1.903794</td>\n",
              "      <td>-0.243156</td>\n",
              "      <td>1.047952</td>\n",
              "      <td>-1.636715</td>\n",
              "    </tr>\n",
              "    <tr>\n",
              "      <th>row7</th>\n",
              "      <td>1.441948</td>\n",
              "      <td>0.080621</td>\n",
              "      <td>-0.562724</td>\n",
              "      <td>-0.261057</td>\n",
              "      <td>0.872266</td>\n",
              "    </tr>\n",
              "    <tr>\n",
              "      <th>row8</th>\n",
              "      <td>0.196538</td>\n",
              "      <td>0.952820</td>\n",
              "      <td>0.139301</td>\n",
              "      <td>-0.604837</td>\n",
              "      <td>1.449998</td>\n",
              "    </tr>\n",
              "    <tr>\n",
              "      <th>row9</th>\n",
              "      <td>0.792733</td>\n",
              "      <td>-0.713530</td>\n",
              "      <td>-0.959949</td>\n",
              "      <td>0.772298</td>\n",
              "      <td>-0.281391</td>\n",
              "    </tr>\n",
              "    <tr>\n",
              "      <th>row10</th>\n",
              "      <td>1.517276</td>\n",
              "      <td>0.139866</td>\n",
              "      <td>-0.075683</td>\n",
              "      <td>-1.451798</td>\n",
              "      <td>1.016599</td>\n",
              "    </tr>\n",
              "  </tbody>\n",
              "</table>\n",
              "</div>\n",
              "      <button class=\"colab-df-convert\" onclick=\"convertToInteractive('df-49eb25b0-8928-44ed-a68a-5263bec3f449')\"\n",
              "              title=\"Convert this dataframe to an interactive table.\"\n",
              "              style=\"display:none;\">\n",
              "        \n",
              "  <svg xmlns=\"http://www.w3.org/2000/svg\" height=\"24px\"viewBox=\"0 0 24 24\"\n",
              "       width=\"24px\">\n",
              "    <path d=\"M0 0h24v24H0V0z\" fill=\"none\"/>\n",
              "    <path d=\"M18.56 5.44l.94 2.06.94-2.06 2.06-.94-2.06-.94-.94-2.06-.94 2.06-2.06.94zm-11 1L8.5 8.5l.94-2.06 2.06-.94-2.06-.94L8.5 2.5l-.94 2.06-2.06.94zm10 10l.94 2.06.94-2.06 2.06-.94-2.06-.94-.94-2.06-.94 2.06-2.06.94z\"/><path d=\"M17.41 7.96l-1.37-1.37c-.4-.4-.92-.59-1.43-.59-.52 0-1.04.2-1.43.59L10.3 9.45l-7.72 7.72c-.78.78-.78 2.05 0 2.83L4 21.41c.39.39.9.59 1.41.59.51 0 1.02-.2 1.41-.59l7.78-7.78 2.81-2.81c.8-.78.8-2.07 0-2.86zM5.41 20L4 18.59l7.72-7.72 1.47 1.35L5.41 20z\"/>\n",
              "  </svg>\n",
              "      </button>\n",
              "      \n",
              "  <style>\n",
              "    .colab-df-container {\n",
              "      display:flex;\n",
              "      flex-wrap:wrap;\n",
              "      gap: 12px;\n",
              "    }\n",
              "\n",
              "    .colab-df-convert {\n",
              "      background-color: #E8F0FE;\n",
              "      border: none;\n",
              "      border-radius: 50%;\n",
              "      cursor: pointer;\n",
              "      display: none;\n",
              "      fill: #1967D2;\n",
              "      height: 32px;\n",
              "      padding: 0 0 0 0;\n",
              "      width: 32px;\n",
              "    }\n",
              "\n",
              "    .colab-df-convert:hover {\n",
              "      background-color: #E2EBFA;\n",
              "      box-shadow: 0px 1px 2px rgba(60, 64, 67, 0.3), 0px 1px 3px 1px rgba(60, 64, 67, 0.15);\n",
              "      fill: #174EA6;\n",
              "    }\n",
              "\n",
              "    [theme=dark] .colab-df-convert {\n",
              "      background-color: #3B4455;\n",
              "      fill: #D2E3FC;\n",
              "    }\n",
              "\n",
              "    [theme=dark] .colab-df-convert:hover {\n",
              "      background-color: #434B5C;\n",
              "      box-shadow: 0px 1px 3px 1px rgba(0, 0, 0, 0.15);\n",
              "      filter: drop-shadow(0px 1px 2px rgba(0, 0, 0, 0.3));\n",
              "      fill: #FFFFFF;\n",
              "    }\n",
              "  </style>\n",
              "\n",
              "      <script>\n",
              "        const buttonEl =\n",
              "          document.querySelector('#df-49eb25b0-8928-44ed-a68a-5263bec3f449 button.colab-df-convert');\n",
              "        buttonEl.style.display =\n",
              "          google.colab.kernel.accessAllowed ? 'block' : 'none';\n",
              "\n",
              "        async function convertToInteractive(key) {\n",
              "          const element = document.querySelector('#df-49eb25b0-8928-44ed-a68a-5263bec3f449');\n",
              "          const dataTable =\n",
              "            await google.colab.kernel.invokeFunction('convertToInteractive',\n",
              "                                                     [key], {});\n",
              "          if (!dataTable) return;\n",
              "\n",
              "          const docLinkHtml = 'Like what you see? Visit the ' +\n",
              "            '<a target=\"_blank\" href=https://colab.research.google.com/notebooks/data_table.ipynb>data table notebook</a>'\n",
              "            + ' to learn more about interactive tables.';\n",
              "          element.innerHTML = '';\n",
              "          dataTable['output_type'] = 'display_data';\n",
              "          await google.colab.output.renderOutput(dataTable, element);\n",
              "          const docLink = document.createElement('div');\n",
              "          docLink.innerHTML = docLinkHtml;\n",
              "          element.appendChild(docLink);\n",
              "        }\n",
              "      </script>\n",
              "    </div>\n",
              "  </div>\n",
              "  "
            ]
          },
          "metadata": {},
          "execution_count": 4
        }
      ]
    },
    {
      "cell_type": "code",
      "source": [
        "type(my_dataframe['column1'])"
      ],
      "metadata": {
        "colab": {
          "base_uri": "https://localhost:8080/"
        },
        "id": "4ZqWghuDM5eN",
        "outputId": "489b8b3b-b8fb-4bcf-fc0b-64c4c1ea08d9"
      },
      "execution_count": 5,
      "outputs": [
        {
          "output_type": "execute_result",
          "data": {
            "text/plain": [
              "pandas.core.series.Series"
            ]
          },
          "metadata": {},
          "execution_count": 5
        }
      ]
    },
    {
      "cell_type": "code",
      "source": [
        "type(my_dataframe)"
      ],
      "metadata": {
        "colab": {
          "base_uri": "https://localhost:8080/"
        },
        "id": "sAqDiiCeM5V1",
        "outputId": "a855e224-33c2-43ba-f765-35abe0f8c515"
      },
      "execution_count": 6,
      "outputs": [
        {
          "output_type": "execute_result",
          "data": {
            "text/plain": [
              "pandas.core.frame.DataFrame"
            ]
          },
          "metadata": {},
          "execution_count": 6
        }
      ]
    }
  ]
}