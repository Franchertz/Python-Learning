{
  "nbformat": 4,
  "nbformat_minor": 0,
  "metadata": {
    "colab": {
      "provenance": [],
      "authorship_tag": "ABX9TyN51LzEQA/gTy63zRE7LW1h",
      "include_colab_link": true
    },
    "kernelspec": {
      "name": "python3",
      "display_name": "Python 3"
    },
    "language_info": {
      "name": "python"
    }
  },
  "cells": [
    {
      "cell_type": "markdown",
      "metadata": {
        "id": "view-in-github",
        "colab_type": "text"
      },
      "source": [
        "<a href=\"https://colab.research.google.com/github/Franchertz/Python-Learning/blob/main/Intro_To_Pandas_Series.ipynb\" target=\"_parent\"><img src=\"https://colab.research.google.com/assets/colab-badge.svg\" alt=\"Open In Colab\"/></a>"
      ]
    },
    {
      "cell_type": "markdown",
      "source": [
        "#**Introduction To The Pandas Library**"
      ],
      "metadata": {
        "id": "u4KfgXyqn57V"
      }
    },
    {
      "cell_type": "markdown",
      "source": [
        "Derived from Panel Data: Data sets that include multiple observations\n",
        "over multiple periods of time. \n",
        "\n",
        "Used for a certain types of data tables.\n",
        "\n",
        "Pandas is built on top of Numpy and steps on its computational abilities.\n",
        "\n",
        "Pandas requires Numpy.\n",
        "\n",
        "Pandas makes the experience of data analysis in Python faster and easier"
      ],
      "metadata": {
        "id": "DqLBnE3QoErR"
      }
    },
    {
      "cell_type": "markdown",
      "source": [
        "**Installing and Running Pandas**"
      ],
      "metadata": {
        "id": "Sg8-aHR-vZiK"
      }
    },
    {
      "cell_type": "code",
      "source": [
        "import pandas as pd\n",
        "pd"
      ],
      "metadata": {
        "colab": {
          "base_uri": "https://localhost:8080/"
        },
        "id": "XTj-rMYSvgEO",
        "outputId": "1db3416c-20a2-4ec3-ced2-18a400ad4bd4"
      },
      "execution_count": null,
      "outputs": [
        {
          "output_type": "execute_result",
          "data": {
            "text/plain": [
              "<module 'pandas' from '/usr/local/lib/python3.9/dist-packages/pandas/__init__.py'>"
            ]
          },
          "metadata": {},
          "execution_count": 1
        }
      ]
    },
    {
      "cell_type": "code",
      "source": [
        "pd.__version__  #shows the version of pandas"
      ],
      "metadata": {
        "colab": {
          "base_uri": "https://localhost:8080/",
          "height": 35
        },
        "id": "qebcSAZYw0lZ",
        "outputId": "fc1b33f2-9a20-4df7-8f1c-0e6e84730799"
      },
      "execution_count": null,
      "outputs": [
        {
          "output_type": "execute_result",
          "data": {
            "text/plain": [
              "'1.5.3'"
            ],
            "application/vnd.google.colaboratory.intrinsic+json": {
              "type": "string"
            }
          },
          "metadata": {},
          "execution_count": 2
        }
      ]
    },
    {
      "cell_type": "markdown",
      "source": [
        "#**Intro To Pandas Series**\n",
        "\n",
        "The \"Series\" object is a single-column data, or a set of values that correspond \n",
        "\n",
        "to a single variable.\n",
        "\n",
        "Hence, a Series object can be created from a list."
      ],
      "metadata": {
        "id": "o26Q2oLCxWz5"
      }
    },
    {
      "cell_type": "code",
      "source": [
        "products = ['A','B','C','D']\n",
        "products"
      ],
      "metadata": {
        "colab": {
          "base_uri": "https://localhost:8080/"
        },
        "id": "s5TAi9tWxi4p",
        "outputId": "c6a8aceb-f699-490d-df66-dcaf63e402ff"
      },
      "execution_count": null,
      "outputs": [
        {
          "output_type": "execute_result",
          "data": {
            "text/plain": [
              "['A', 'B', 'C', 'D']"
            ]
          },
          "metadata": {},
          "execution_count": 9
        }
      ]
    },
    {
      "cell_type": "code",
      "source": [
        "type(products)"
      ],
      "metadata": {
        "colab": {
          "base_uri": "https://localhost:8080/"
        },
        "id": "roZJ3Z2eylhR",
        "outputId": "f7b534f3-5f0c-48de-efec-4d426d9cd610"
      },
      "execution_count": null,
      "outputs": [
        {
          "output_type": "execute_result",
          "data": {
            "text/plain": [
              "list"
            ]
          },
          "metadata": {},
          "execution_count": 4
        }
      ]
    },
    {
      "cell_type": "code",
      "source": [
        "#Turning the list into a Series\n",
        "\n",
        "product_categories = pd.Series(products)"
      ],
      "metadata": {
        "id": "m_jOdPzIy0xR"
      },
      "execution_count": null,
      "outputs": []
    },
    {
      "cell_type": "code",
      "source": [
        "product_categories"
      ],
      "metadata": {
        "colab": {
          "base_uri": "https://localhost:8080/"
        },
        "id": "jG7mqOrXzPp5",
        "outputId": "b83314ff-f210-4aa0-8003-c35b7c6e8f42"
      },
      "execution_count": null,
      "outputs": [
        {
          "output_type": "execute_result",
          "data": {
            "text/plain": [
              "0    A\n",
              "1    B\n",
              "2    C\n",
              "3    D\n",
              "dtype: object"
            ]
          },
          "metadata": {},
          "execution_count": 6
        }
      ]
    },
    {
      "cell_type": "markdown",
      "source": [
        "On the left hand side, we see the numbers 0 to 3, these are called **Index Values** which usually starts from 0.\n",
        "\n",
        "Also the datatype is assigned "
      ],
      "metadata": {
        "id": "JR5vMWmLzl8y"
      }
    },
    {
      "cell_type": "code",
      "source": [
        "type(product_categories)"
      ],
      "metadata": {
        "colab": {
          "base_uri": "https://localhost:8080/"
        },
        "id": "TQWjgJSY0cRZ",
        "outputId": "99e964d8-6322-43d1-cf85-9ba9f649e42b"
      },
      "execution_count": null,
      "outputs": [
        {
          "output_type": "execute_result",
          "data": {
            "text/plain": [
              "pandas.core.series.Series"
            ]
          },
          "metadata": {},
          "execution_count": 7
        }
      ]
    },
    {
      "cell_type": "code",
      "source": [
        "type(pd.Series(products))"
      ],
      "metadata": {
        "colab": {
          "base_uri": "https://localhost:8080/"
        },
        "id": "4VvV5fJj0n-5",
        "outputId": "c59ab81f-a201-4790-980c-ce8564d43035"
      },
      "execution_count": null,
      "outputs": [
        {
          "output_type": "execute_result",
          "data": {
            "text/plain": [
              "pandas.core.series.Series"
            ]
          },
          "metadata": {},
          "execution_count": 8
        }
      ]
    },
    {
      "cell_type": "code",
      "source": [
        "daily_rates_dollars = pd.Series([40, 45, 50, 60])\n",
        "daily_rates_dollars"
      ],
      "metadata": {
        "colab": {
          "base_uri": "https://localhost:8080/"
        },
        "id": "BNhbK5TI1PkJ",
        "outputId": "0ca2b850-d08e-4d36-ef43-6cd2f435daa3"
      },
      "execution_count": null,
      "outputs": [
        {
          "output_type": "execute_result",
          "data": {
            "text/plain": [
              "0    40\n",
              "1    45\n",
              "2    50\n",
              "3    60\n",
              "dtype: int64"
            ]
          },
          "metadata": {},
          "execution_count": 10
        }
      ]
    },
    {
      "cell_type": "code",
      "source": [
        "print(daily_rates_dollars)"
      ],
      "metadata": {
        "colab": {
          "base_uri": "https://localhost:8080/"
        },
        "id": "ZDOerwYX2IRC",
        "outputId": "833b77ce-1252-4e6b-9379-54240665785b"
      },
      "execution_count": null,
      "outputs": [
        {
          "output_type": "stream",
          "name": "stdout",
          "text": [
            "0    40\n",
            "1    45\n",
            "2    50\n",
            "3    60\n",
            "dtype: int64\n"
          ]
        }
      ]
    },
    {
      "cell_type": "markdown",
      "source": [
        "Pandas Series objects corresponds to the one-dimensional NumPy array structure"
      ],
      "metadata": {
        "id": "jkSAwW432X2C"
      }
    },
    {
      "cell_type": "code",
      "source": [
        "import numpy as np"
      ],
      "metadata": {
        "id": "_GTkMw_D2q4R"
      },
      "execution_count": null,
      "outputs": []
    },
    {
      "cell_type": "code",
      "source": [
        "array_a = np.array ([10, 20, 30, 40, 50])\n",
        "array_a"
      ],
      "metadata": {
        "colab": {
          "base_uri": "https://localhost:8080/"
        },
        "id": "zsxjMvSh205B",
        "outputId": "bb1f4a1b-4462-48a5-b749-845f85cc9c36"
      },
      "execution_count": null,
      "outputs": [
        {
          "output_type": "execute_result",
          "data": {
            "text/plain": [
              "array([10, 20, 30, 40, 50])"
            ]
          },
          "metadata": {},
          "execution_count": 13
        }
      ]
    },
    {
      "cell_type": "code",
      "source": [
        "type(array_a)"
      ],
      "metadata": {
        "colab": {
          "base_uri": "https://localhost:8080/"
        },
        "id": "TCEYsYxq3TEZ",
        "outputId": "1fd39f58-062a-447a-96bb-c9dbc4e448e9"
      },
      "execution_count": null,
      "outputs": [
        {
          "output_type": "execute_result",
          "data": {
            "text/plain": [
              "numpy.ndarray"
            ]
          },
          "metadata": {},
          "execution_count": 14
        }
      ]
    },
    {
      "cell_type": "code",
      "source": [
        "series_a = pd.Series(array_a)\n",
        "series_a"
      ],
      "metadata": {
        "colab": {
          "base_uri": "https://localhost:8080/"
        },
        "id": "uyXuXdxi3kt5",
        "outputId": "690077be-d409-48bf-ae4a-4d5fb06876ee"
      },
      "execution_count": null,
      "outputs": [
        {
          "output_type": "execute_result",
          "data": {
            "text/plain": [
              "0    10\n",
              "1    20\n",
              "2    30\n",
              "3    40\n",
              "4    50\n",
              "dtype: int64"
            ]
          },
          "metadata": {},
          "execution_count": 15
        }
      ]
    },
    {
      "cell_type": "code",
      "source": [
        "print(series_a)"
      ],
      "metadata": {
        "colab": {
          "base_uri": "https://localhost:8080/"
        },
        "id": "_sxFNKQl3-Eh",
        "outputId": "39d28a65-3149-4523-cde5-fa41b23f8ad4"
      },
      "execution_count": null,
      "outputs": [
        {
          "output_type": "stream",
          "name": "stdout",
          "text": [
            "0    10\n",
            "1    20\n",
            "2    30\n",
            "3    40\n",
            "4    50\n",
            "dtype: int64\n"
          ]
        }
      ]
    },
    {
      "cell_type": "code",
      "source": [
        "type(series_a)"
      ],
      "metadata": {
        "colab": {
          "base_uri": "https://localhost:8080/"
        },
        "id": "yiX5vf-04atK",
        "outputId": "10e2027a-cd8d-4369-c2f8-9fef1a4a0770"
      },
      "execution_count": null,
      "outputs": [
        {
          "output_type": "execute_result",
          "data": {
            "text/plain": [
              "pandas.core.series.Series"
            ]
          },
          "metadata": {},
          "execution_count": 17
        }
      ]
    },
    {
      "cell_type": "markdown",
      "source": [
        "#**Takeaways:**\n",
        "1. The Pandas Series object is a powerful version\n",
        "    of the Python list, or an enhanced version of\n",
        "    the NumPy array.\n",
        "\n",
        "2. Always maintain data consistency.\n",
        "\n"
      ],
      "metadata": {
        "id": "lT-1X2gT403J"
      }
    }
  ]
}