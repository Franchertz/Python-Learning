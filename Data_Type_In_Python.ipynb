{
  "nbformat": 4,
  "nbformat_minor": 0,
  "metadata": {
    "colab": {
      "provenance": [],
      "authorship_tag": "ABX9TyOBxT9xWleEKNruo/S4YHpd",
      "include_colab_link": true
    },
    "kernelspec": {
      "name": "python3",
      "display_name": "Python 3"
    },
    "language_info": {
      "name": "python"
    }
  },
  "cells": [
    {
      "cell_type": "markdown",
      "metadata": {
        "id": "view-in-github",
        "colab_type": "text"
      },
      "source": [
        "<a href=\"https://colab.research.google.com/github/Franchertz/Python-Learning/blob/main/Data_Type_In_Python.ipynb\" target=\"_parent\"><img src=\"https://colab.research.google.com/assets/colab-badge.svg\" alt=\"Open In Colab\"/></a>"
      ]
    },
    {
      "cell_type": "markdown",
      "source": [],
      "metadata": {
        "id": "cWSzbcPIdZDW"
      }
    },
    {
      "cell_type": "markdown",
      "source": [
        "#**Python Numbers**"
      ],
      "metadata": {
        "id": "NBe6qj34da4S"
      }
    },
    {
      "cell_type": "code",
      "execution_count": null,
      "metadata": {
        "id": "61NWe6PXy494"
      },
      "outputs": [],
      "source": [
        "#Python Numbers category consists of\n",
        "#Integers(int)\n",
        "#Floating point numbers(float)\n",
        "#Complex numbers(complex)\n",
        "#String(str)\n",
        "#List\n",
        "#Turple\n",
        "#Set\n",
        "#Dictionary"
      ]
    },
    {
      "cell_type": "markdown",
      "source": [
        "#**Integers**"
      ],
      "metadata": {
        "id": "FLT1Vni7dh_T"
      }
    },
    {
      "cell_type": "code",
      "source": [
        "#**Integers(int), we create a varibale and assign an integer value or without values\n",
        "\n",
        "a = 10\n",
        "type(a)"
      ],
      "metadata": {
        "colab": {
          "base_uri": "https://localhost:8080/"
        },
        "id": "cNvEFv1j0AEc",
        "outputId": "90d12001-cc82-4236-c3a0-b45763127e4a"
      },
      "execution_count": null,
      "outputs": [
        {
          "output_type": "execute_result",
          "data": {
            "text/plain": [
              "int"
            ]
          },
          "metadata": {},
          "execution_count": 1
        }
      ]
    },
    {
      "cell_type": "code",
      "source": [
        "10 + 20"
      ],
      "metadata": {
        "colab": {
          "base_uri": "https://localhost:8080/"
        },
        "id": "H07XnmDc0ABV",
        "outputId": "9be50c37-cef9-4f06-f1b8-d56550bb1222"
      },
      "execution_count": null,
      "outputs": [
        {
          "output_type": "execute_result",
          "data": {
            "text/plain": [
              "30"
            ]
          },
          "metadata": {},
          "execution_count": 2
        }
      ]
    },
    {
      "cell_type": "code",
      "source": [
        "type(10+20)"
      ],
      "metadata": {
        "colab": {
          "base_uri": "https://localhost:8080/"
        },
        "id": "pMnXMaUEz_-F",
        "outputId": "85d0cc7b-347e-4c29-e74c-0e5007ae4ee3"
      },
      "execution_count": null,
      "outputs": [
        {
          "output_type": "execute_result",
          "data": {
            "text/plain": [
              "int"
            ]
          },
          "metadata": {},
          "execution_count": 3
        }
      ]
    },
    {
      "cell_type": "markdown",
      "source": [
        "#**Floating Point Numbers**"
      ],
      "metadata": {
        "id": "EAg4Mj7wdP6K"
      }
    },
    {
      "cell_type": "code",
      "source": [
        "#**Floating Point Numbers**, these are numbers with decimals\n",
        "\n",
        "b = 10.5\n",
        "type(b)\n"
      ],
      "metadata": {
        "colab": {
          "base_uri": "https://localhost:8080/"
        },
        "id": "Gnvz6qP5z_6S",
        "outputId": "0bfbb27e-e101-4875-bb24-ce8809aeb168"
      },
      "execution_count": null,
      "outputs": [
        {
          "output_type": "execute_result",
          "data": {
            "text/plain": [
              "float"
            ]
          },
          "metadata": {},
          "execution_count": 4
        }
      ]
    },
    {
      "cell_type": "code",
      "source": [
        "10.5 + 7"
      ],
      "metadata": {
        "colab": {
          "base_uri": "https://localhost:8080/"
        },
        "id": "MqEHMK54z_3L",
        "outputId": "308de48d-a436-4c4e-c435-27dda0a9c17e"
      },
      "execution_count": null,
      "outputs": [
        {
          "output_type": "execute_result",
          "data": {
            "text/plain": [
              "17.5"
            ]
          },
          "metadata": {},
          "execution_count": 5
        }
      ]
    },
    {
      "cell_type": "code",
      "source": [
        "type(10.5+7)"
      ],
      "metadata": {
        "colab": {
          "base_uri": "https://localhost:8080/"
        },
        "id": "I9-hxGJfbFRb",
        "outputId": "7add3b03-4160-4613-c877-210b787bc5bb"
      },
      "execution_count": null,
      "outputs": [
        {
          "output_type": "execute_result",
          "data": {
            "text/plain": [
              "float"
            ]
          },
          "metadata": {},
          "execution_count": 6
        }
      ]
    },
    {
      "cell_type": "markdown",
      "source": [
        "#**Complex** **Numbers**"
      ],
      "metadata": {
        "id": "5MBGbB83dEO_"
      }
    },
    {
      "cell_type": "code",
      "source": [
        "#***Complex Numbers****\n",
        "\n",
        "c = 10 + 5j"
      ],
      "metadata": {
        "id": "DHluhv9gbRJ8"
      },
      "execution_count": null,
      "outputs": []
    },
    {
      "cell_type": "code",
      "source": [
        "type(c)"
      ],
      "metadata": {
        "colab": {
          "base_uri": "https://localhost:8080/"
        },
        "id": "Yp9nxw0qbRFp",
        "outputId": "5e5e62ec-3afe-41d2-bc2e-c21126bb3dc8"
      },
      "execution_count": null,
      "outputs": [
        {
          "output_type": "execute_result",
          "data": {
            "text/plain": [
              "complex"
            ]
          },
          "metadata": {},
          "execution_count": 8
        }
      ]
    },
    {
      "cell_type": "code",
      "source": [
        "#**String ***\n",
        "\n",
        "d = 'mrfrank'"
      ],
      "metadata": {
        "id": "y413vh3_bRB6"
      },
      "execution_count": null,
      "outputs": []
    },
    {
      "cell_type": "code",
      "source": [
        "type(d)"
      ],
      "metadata": {
        "colab": {
          "base_uri": "https://localhost:8080/"
        },
        "id": "IGvbjo1kbQ8Z",
        "outputId": "d61ac020-1bcc-4c7e-8bae-f33312bca224"
      },
      "execution_count": null,
      "outputs": [
        {
          "output_type": "execute_result",
          "data": {
            "text/plain": [
              "str"
            ]
          },
          "metadata": {},
          "execution_count": 11
        }
      ]
    },
    {
      "cell_type": "code",
      "source": [
        "e = mrfrank"
      ],
      "metadata": {
        "colab": {
          "base_uri": "https://localhost:8080/",
          "height": 165
        },
        "id": "CrbJCuGocCBl",
        "outputId": "d08dd836-09a0-4b23-d5ed-7176d7b474f2"
      },
      "execution_count": null,
      "outputs": [
        {
          "output_type": "error",
          "ename": "NameError",
          "evalue": "ignored",
          "traceback": [
            "\u001b[0;31m---------------------------------------------------------------------------\u001b[0m",
            "\u001b[0;31mNameError\u001b[0m                                 Traceback (most recent call last)",
            "\u001b[0;32m<ipython-input-12-cb598ae4a87b>\u001b[0m in \u001b[0;36m<cell line: 1>\u001b[0;34m()\u001b[0m\n\u001b[0;32m----> 1\u001b[0;31m \u001b[0me\u001b[0m \u001b[0;34m=\u001b[0m \u001b[0mmrfrank\u001b[0m\u001b[0;34m\u001b[0m\u001b[0;34m\u001b[0m\u001b[0m\n\u001b[0m",
            "\u001b[0;31mNameError\u001b[0m: name 'mrfrank' is not defined"
          ]
        }
      ]
    },
    {
      "cell_type": "markdown",
      "source": [
        "**Without** the inverted commas you get an error as shown above"
      ],
      "metadata": {
        "id": "K7k4tuYzh22q"
      }
    },
    {
      "cell_type": "code",
      "source": [
        "e = \"Mr frank\""
      ],
      "metadata": {
        "id": "wKQ_Grk2cB-Z"
      },
      "execution_count": null,
      "outputs": []
    },
    {
      "cell_type": "code",
      "source": [
        "type(e)"
      ],
      "metadata": {
        "colab": {
          "base_uri": "https://localhost:8080/"
        },
        "id": "GWM_rjBzcPwp",
        "outputId": "b01d1bf6-f639-49f1-e4ec-4a306ec2ae12"
      },
      "execution_count": null,
      "outputs": [
        {
          "output_type": "execute_result",
          "data": {
            "text/plain": [
              "str"
            ]
          },
          "metadata": {},
          "execution_count": 14
        }
      ]
    },
    {
      "cell_type": "code",
      "source": [
        "f = ' We are learning python data types '"
      ],
      "metadata": {
        "id": "Z09-XSiccVf6"
      },
      "execution_count": null,
      "outputs": []
    },
    {
      "cell_type": "code",
      "source": [
        "type(f)"
      ],
      "metadata": {
        "colab": {
          "base_uri": "https://localhost:8080/"
        },
        "id": "RGP7_JSNcVdR",
        "outputId": "b5e0f95a-1590-49f0-b725-1939a7fe4cce"
      },
      "execution_count": null,
      "outputs": [
        {
          "output_type": "execute_result",
          "data": {
            "text/plain": [
              "str"
            ]
          },
          "metadata": {},
          "execution_count": 16
        }
      ]
    },
    {
      "cell_type": "markdown",
      "source": [
        "#**List**\n",
        "\n",
        "\n",
        "\n"
      ],
      "metadata": {
        "id": "157BGOnpcrQX"
      }
    },
    {
      "cell_type": "code",
      "source": [
        "#**List**, python uses the square brackets to create lists []\n",
        "\n",
        "grades = [10,30,50,70,80,75.5,50.8,'mrfrank','David', \"Credits\"]\n"
      ],
      "metadata": {
        "id": "Lg19ZJvEcg0P"
      },
      "execution_count": null,
      "outputs": []
    },
    {
      "cell_type": "code",
      "source": [
        "type(grades)"
      ],
      "metadata": {
        "colab": {
          "base_uri": "https://localhost:8080/"
        },
        "id": "sKcl2PmycgwS",
        "outputId": "610cd7b3-b051-4ca7-9021-3d2516ed776f"
      },
      "execution_count": null,
      "outputs": [
        {
          "output_type": "execute_result",
          "data": {
            "text/plain": [
              "list"
            ]
          },
          "metadata": {},
          "execution_count": 21
        }
      ]
    },
    {
      "cell_type": "markdown",
      "source": [
        "#**Tuple**"
      ],
      "metadata": {
        "id": "SZik2yfue_c-"
      }
    },
    {
      "cell_type": "code",
      "source": [
        "#Turpel is similar to list, instead of the [], we use parenthesis ()\n",
        "\n",
        "tuple_items=(10,30,50,70,80,75.5,50.8,'mrfrank','David', \"Credits\")\n"
      ],
      "metadata": {
        "id": "5Ahn6MEie-QZ"
      },
      "execution_count": null,
      "outputs": []
    },
    {
      "cell_type": "code",
      "source": [
        "type(tuple_items)"
      ],
      "metadata": {
        "colab": {
          "base_uri": "https://localhost:8080/"
        },
        "id": "ZqMq_hI-cVaR",
        "outputId": "021d5026-883c-4e56-aabd-839aa443051d"
      },
      "execution_count": null,
      "outputs": [
        {
          "output_type": "execute_result",
          "data": {
            "text/plain": [
              "tuple"
            ]
          },
          "metadata": {},
          "execution_count": 23
        }
      ]
    },
    {
      "cell_type": "code",
      "source": [
        "#To change an item, say 10 in grades\n",
        "\n",
        "grades[0]=100"
      ],
      "metadata": {
        "id": "zChBDuPOgD9D"
      },
      "execution_count": null,
      "outputs": []
    },
    {
      "cell_type": "code",
      "source": [
        "grades"
      ],
      "metadata": {
        "colab": {
          "base_uri": "https://localhost:8080/"
        },
        "id": "Yf0k1AT-gdLq",
        "outputId": "e18c8e2c-9c78-45bd-953e-104c38de916c"
      },
      "execution_count": null,
      "outputs": [
        {
          "output_type": "execute_result",
          "data": {
            "text/plain": [
              "[100, 30, 50, 70, 80, 75.5, 50.8, 'mrfrank', 'David', 'Credits']"
            ]
          },
          "metadata": {},
          "execution_count": 25
        }
      ]
    },
    {
      "cell_type": "code",
      "source": [
        "grades[7]='John'"
      ],
      "metadata": {
        "id": "b2XWmcIzglEp"
      },
      "execution_count": null,
      "outputs": []
    },
    {
      "cell_type": "code",
      "source": [
        "grades"
      ],
      "metadata": {
        "colab": {
          "base_uri": "https://localhost:8080/"
        },
        "id": "Gg3z42WPgk8q",
        "outputId": "5feb1360-85bc-4790-8aaa-55b90074617a"
      },
      "execution_count": null,
      "outputs": [
        {
          "output_type": "execute_result",
          "data": {
            "text/plain": [
              "[100, 30, 50, 70, 80, 75.5, 50.8, 'John', 'David', 'Credits']"
            ]
          },
          "metadata": {},
          "execution_count": 27
        }
      ]
    },
    {
      "cell_type": "code",
      "source": [
        "tuple_items"
      ],
      "metadata": {
        "colab": {
          "base_uri": "https://localhost:8080/"
        },
        "id": "Dp_iFoTVg76S",
        "outputId": "9100858c-ca80-472d-9478-7694b74ebffc"
      },
      "execution_count": null,
      "outputs": [
        {
          "output_type": "execute_result",
          "data": {
            "text/plain": [
              "(10, 30, 50, 70, 80, 75.5, 50.8, 'mrfrank', 'David', 'Credits')"
            ]
          },
          "metadata": {},
          "execution_count": 28
        }
      ]
    },
    {
      "cell_type": "code",
      "source": [
        "tuple_items[9]='Mercy'"
      ],
      "metadata": {
        "colab": {
          "base_uri": "https://localhost:8080/",
          "height": 165
        },
        "id": "ZlA6VoStg7wN",
        "outputId": "78709eaf-20d9-4854-e43b-2eefbbf2a89a"
      },
      "execution_count": null,
      "outputs": [
        {
          "output_type": "error",
          "ename": "TypeError",
          "evalue": "ignored",
          "traceback": [
            "\u001b[0;31m---------------------------------------------------------------------------\u001b[0m",
            "\u001b[0;31mTypeError\u001b[0m                                 Traceback (most recent call last)",
            "\u001b[0;32m<ipython-input-29-04f9c1911024>\u001b[0m in \u001b[0;36m<cell line: 1>\u001b[0;34m()\u001b[0m\n\u001b[0;32m----> 1\u001b[0;31m \u001b[0mtuple_items\u001b[0m\u001b[0;34m[\u001b[0m\u001b[0;36m9\u001b[0m\u001b[0;34m]\u001b[0m\u001b[0;34m=\u001b[0m\u001b[0;34m'Mercy'\u001b[0m\u001b[0;34m\u001b[0m\u001b[0;34m\u001b[0m\u001b[0m\n\u001b[0m",
            "\u001b[0;31mTypeError\u001b[0m: 'tuple' object does not support item assignment"
          ]
        }
      ]
    },
    {
      "cell_type": "markdown",
      "source": [
        "Tuple is **Immutable** or is not changeable BUT List is **Mutable** or changeable"
      ],
      "metadata": {
        "id": "z_aaAkCbhRtc"
      }
    },
    {
      "cell_type": "markdown",
      "source": [
        "#**Set**\n",
        "This is same as in maths, meaning an ordered or unordered collection of **unique** items"
      ],
      "metadata": {
        "id": "kJzAYMsxiaOR"
      }
    },
    {
      "cell_type": "code",
      "source": [
        "#Set. We use the wiggly or curly bracket to create sets\n",
        "\n",
        "h = {1,2,3,7,15,25,3.5}\n",
        "\n"
      ],
      "metadata": {
        "id": "497mUInlil1Z"
      },
      "execution_count": null,
      "outputs": []
    },
    {
      "cell_type": "code",
      "source": [
        "type(h)"
      ],
      "metadata": {
        "colab": {
          "base_uri": "https://localhost:8080/"
        },
        "id": "dX6ImLyKhmBh",
        "outputId": "8af135c5-37cf-42a7-8d48-118afbb1e42f"
      },
      "execution_count": null,
      "outputs": [
        {
          "output_type": "execute_result",
          "data": {
            "text/plain": [
              "set"
            ]
          },
          "metadata": {},
          "execution_count": 31
        }
      ]
    },
    {
      "cell_type": "markdown",
      "source": [
        "#**Dictionary**"
      ],
      "metadata": {
        "id": "M7jVyMHfkCOs"
      }
    },
    {
      "cell_type": "markdown",
      "source": [
        "An unorderd collection of items: it has **Keys-Value Pair**"
      ],
      "metadata": {
        "id": "pcJ_egvukbhb"
      }
    },
    {
      "cell_type": "code",
      "source": [
        "dict = {'Name':'mrfrank','Favorite fruits':'Apple','Color':'Blue'}"
      ],
      "metadata": {
        "id": "wl6TAURtkGsZ"
      },
      "execution_count": null,
      "outputs": []
    },
    {
      "cell_type": "code",
      "source": [
        "type(dict)"
      ],
      "metadata": {
        "colab": {
          "base_uri": "https://localhost:8080/"
        },
        "id": "dWxXKvQIk63R",
        "outputId": "140d924b-743d-424f-8055-2ecd89b73284"
      },
      "execution_count": null,
      "outputs": [
        {
          "output_type": "execute_result",
          "data": {
            "text/plain": [
              "dict"
            ]
          },
          "metadata": {},
          "execution_count": 33
        }
      ]
    },
    {
      "cell_type": "code",
      "source": [
        "#say we want to fetch the favorite color of MrFrank\n",
        "\n",
        "dict['Color']"
      ],
      "metadata": {
        "colab": {
          "base_uri": "https://localhost:8080/",
          "height": 35
        },
        "id": "aWsQ06KDlh31",
        "outputId": "37a564f2-2903-42ff-9ec5-6ec7153ccabc"
      },
      "execution_count": null,
      "outputs": [
        {
          "output_type": "execute_result",
          "data": {
            "text/plain": [
              "'Blue'"
            ],
            "application/vnd.google.colaboratory.intrinsic+json": {
              "type": "string"
            }
          },
          "metadata": {},
          "execution_count": 37
        }
      ]
    },
    {
      "cell_type": "code",
      "source": [
        "dict['Name']"
      ],
      "metadata": {
        "colab": {
          "base_uri": "https://localhost:8080/",
          "height": 35
        },
        "id": "MStaTMtllhyq",
        "outputId": "df3cf32c-4e14-4b06-c2c2-6c03755c176e"
      },
      "execution_count": null,
      "outputs": [
        {
          "output_type": "execute_result",
          "data": {
            "text/plain": [
              "'mrfrank'"
            ],
            "application/vnd.google.colaboratory.intrinsic+json": {
              "type": "string"
            }
          },
          "metadata": {},
          "execution_count": 41
        }
      ]
    },
    {
      "cell_type": "code",
      "source": [
        "dict['Favorite fruits']"
      ],
      "metadata": {
        "colab": {
          "base_uri": "https://localhost:8080/",
          "height": 35
        },
        "id": "a43Qq5XJq5Ix",
        "outputId": "b128584f-9762-4862-b33c-be73d622dc14"
      },
      "execution_count": null,
      "outputs": [
        {
          "output_type": "execute_result",
          "data": {
            "text/plain": [
              "'Apple'"
            ],
            "application/vnd.google.colaboratory.intrinsic+json": {
              "type": "string"
            }
          },
          "metadata": {},
          "execution_count": 42
        }
      ]
    }
  ]
}