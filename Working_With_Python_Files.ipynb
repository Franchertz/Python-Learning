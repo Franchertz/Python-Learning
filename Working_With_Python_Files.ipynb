{
  "nbformat": 4,
  "nbformat_minor": 0,
  "metadata": {
    "colab": {
      "provenance": [],
      "authorship_tag": "ABX9TyNT9jjJHjqBS4tKTgyYmPjp",
      "include_colab_link": true
    },
    "kernelspec": {
      "name": "python3",
      "display_name": "Python 3"
    },
    "language_info": {
      "name": "python"
    }
  },
  "cells": [
    {
      "cell_type": "markdown",
      "metadata": {
        "id": "view-in-github",
        "colab_type": "text"
      },
      "source": [
        "<a href=\"https://colab.research.google.com/github/Franchertz/Python-Learning/blob/main/Working_With_Python_Files.ipynb\" target=\"_parent\"><img src=\"https://colab.research.google.com/assets/colab-badge.svg\" alt=\"Open In Colab\"/></a>"
      ]
    },
    {
      "cell_type": "code",
      "execution_count": null,
      "metadata": {
        "colab": {
          "base_uri": "https://localhost:8080/",
          "height": 35
        },
        "id": "dKugVrpBEl4x",
        "outputId": "7ac1a09d-18ea-4b44-c40e-35dc38258338"
      },
      "outputs": [
        {
          "output_type": "execute_result",
          "data": {
            "text/plain": [
              "'Seattle Airbnb Open Data\\nA sneak peek into the Airbnb activity in Seattle, WA, USA'"
            ],
            "application/vnd.google.colaboratory.intrinsic+json": {
              "type": "string"
            }
          },
          "metadata": {},
          "execution_count": 1
        }
      ],
      "source": [
        "#Python files - doing certain operations: Writing data on a file; reading data and closing data on file\n",
        "\n",
        "#Opening files in Python\n",
        "#uploaded a file Words.txt, then I tried to open it\n",
        "\n",
        "file=open('/Words.txt')\n",
        "\n",
        "file.read()\n",
        "\n",
        "#specifying access mode using r, w, x ...\n",
        "\n",
        "file=open('/Words.txt')\n",
        "\n"
      ]
    },
    {
      "cell_type": "code",
      "source": [
        "#specifying access mode using r, w, x ...\n",
        "\n",
        "file=open('/Words.txt', 'r') #reading the file\n",
        "\n",
        "file=open('/Words.txt', 'w') #writing to the file\n",
        "\n",
        "file=open('/Words.txt', 'a') #appending at the end of the file\n"
      ],
      "metadata": {
        "id": "GvfwQNiRMgsz"
      },
      "execution_count": null,
      "outputs": []
    },
    {
      "cell_type": "code",
      "source": [
        "file"
      ],
      "metadata": {
        "colab": {
          "base_uri": "https://localhost:8080/"
        },
        "id": "iN_jmc8YMgkN",
        "outputId": "d9f2a686-bc3e-485c-dd87-2c31b3151a57"
      },
      "execution_count": null,
      "outputs": [
        {
          "output_type": "execute_result",
          "data": {
            "text/plain": [
              "<_io.TextIOWrapper name='/Words.txt' mode='a' encoding='UTF-8'>"
            ]
          },
          "metadata": {},
          "execution_count": 3
        }
      ]
    },
    {
      "cell_type": "code",
      "source": [
        "#How Python encodes file - encoding='UTF-8 - Unicode Transformation format 8 means 8-bits for encoding\n",
        "\n",
        "file=open('/Words.txt', 'r', encoding= 'cp1252')\n",
        "\n"
      ],
      "metadata": {
        "id": "zFSopxtMMggy"
      },
      "execution_count": null,
      "outputs": []
    },
    {
      "cell_type": "code",
      "source": [
        "#Closing File Method\n",
        "\n",
        "file=open('/Words.txt', 'r', encoding= 'cp1252')\n",
        "file.close"
      ],
      "metadata": {
        "colab": {
          "base_uri": "https://localhost:8080/"
        },
        "id": "hCmuUnyaMgdl",
        "outputId": "5f126f88-5dab-4c38-b45d-bcaa10666477"
      },
      "execution_count": null,
      "outputs": [
        {
          "output_type": "execute_result",
          "data": {
            "text/plain": [
              "<function TextIOWrapper.close()>"
            ]
          },
          "metadata": {},
          "execution_count": 6
        }
      ]
    },
    {
      "cell_type": "code",
      "source": [
        "#With Statement\n",
        "\n",
        "#Syntax\n",
        "\n",
        "with open(<file name>, <access mode>) as <file-pointer>:\n",
        "\n",
        "  "
      ],
      "metadata": {
        "id": "sG4bTldDOcZ2"
      },
      "execution_count": null,
      "outputs": []
    },
    {
      "cell_type": "code",
      "source": [
        "with open('/Words.txt','r') as f:\n",
        "  content=f.read()\n",
        "  print(content)"
      ],
      "metadata": {
        "colab": {
          "base_uri": "https://localhost:8080/"
        },
        "id": "sVJ4tqxrOcVA",
        "outputId": "b071b7c0-0f5c-420e-deec-e51d3e908908"
      },
      "execution_count": null,
      "outputs": [
        {
          "output_type": "stream",
          "name": "stdout",
          "text": [
            "\n"
          ]
        }
      ]
    },
    {
      "cell_type": "code",
      "source": [
        "#Writing to a file in Python\n",
        "\n",
        "file=open('/Words.txt', 'w', encoding= 'utf-8')\n",
        "\n",
        "file.write('This statement is added right now just to see how to write to a Python file')\n",
        "\n",
        "file.close()"
      ],
      "metadata": {
        "id": "7RB7VeSiSwrz"
      },
      "execution_count": null,
      "outputs": []
    },
    {
      "cell_type": "code",
      "source": [
        "with open('/Words.txt','r') as f:\n",
        "  content=f.read()\n",
        "  print(content)"
      ],
      "metadata": {
        "colab": {
          "base_uri": "https://localhost:8080/"
        },
        "id": "FSDpxAZqSwis",
        "outputId": "5da62478-8a31-464d-c0a5-e1915ff8a095"
      },
      "execution_count": null,
      "outputs": [
        {
          "output_type": "stream",
          "name": "stdout",
          "text": [
            "This statement is added right now just to see how to write to a Python file\n"
          ]
        }
      ]
    },
    {
      "cell_type": "code",
      "source": [
        "with open('/Words.txt','w') as f:\n",
        "  f.write(\"This is the first line\")\n",
        "  f.write(\"This is the second line\")\n",
        "  f.write(\"This is the third line\")"
      ],
      "metadata": {
        "id": "pGsPNAkkSwfN"
      },
      "execution_count": null,
      "outputs": []
    },
    {
      "cell_type": "code",
      "source": [
        "with open('/Words.txt','r') as f:\n",
        "  content=f.read()\n",
        "  print(content)"
      ],
      "metadata": {
        "colab": {
          "base_uri": "https://localhost:8080/"
        },
        "id": "hgDRlWlYSwbK",
        "outputId": "a89349d7-241d-4791-a515-dabdcbcf70de"
      },
      "execution_count": null,
      "outputs": [
        {
          "output_type": "stream",
          "name": "stdout",
          "text": [
            "This is the first lineThis is the second lineThis is the third line\n"
          ]
        }
      ]
    },
    {
      "cell_type": "code",
      "source": [
        "with open('/Words.txt','w') as f:\n",
        "  f.write(\"This is the first line\\n\")   #using the \\n to print statement in separate lines\n",
        "  f.write(\"This is the second line\\n\")\n",
        "  f.write(\"This is the third line\\n\")"
      ],
      "metadata": {
        "id": "Y8fh2vvgSwXw"
      },
      "execution_count": null,
      "outputs": []
    },
    {
      "cell_type": "code",
      "source": [
        "with open('/Words.txt','r') as f:\n",
        "  content=f.read()\n",
        "  print(content)"
      ],
      "metadata": {
        "colab": {
          "base_uri": "https://localhost:8080/"
        },
        "id": "zzzzunRcSwR9",
        "outputId": "6f3cf9fd-cdb6-48cb-bbaf-e598d3cbfe45"
      },
      "execution_count": null,
      "outputs": [
        {
          "output_type": "stream",
          "name": "stdout",
          "text": [
            "This is the first line\n",
            "This is the second line\n",
            "This is the third line\n",
            "\n"
          ]
        }
      ]
    }
  ]
}