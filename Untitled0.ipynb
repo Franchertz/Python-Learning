{
  "cells": [
    {
      "cell_type": "markdown",
      "metadata": {
        "id": "view-in-github",
        "colab_type": "text"
      },
      "source": [
        "<a href=\"https://colab.research.google.com/github/Franchertz/Python-Learning/blob/main/Untitled0.ipynb\" target=\"_parent\"><img src=\"https://colab.research.google.com/assets/colab-badge.svg\" alt=\"Open In Colab\"/></a>"
      ]
    },
    {
      "cell_type": "code",
      "execution_count": null,
      "metadata": {
        "id": "TXltpFrK4yN4"
      },
      "outputs": [],
      "source": [
        "my_variables=(1,3,5,7,9)\n"
      ]
    },
    {
      "cell_type": "code",
      "execution_count": null,
      "metadata": {
        "colab": {
          "base_uri": "https://localhost:8080/"
        },
        "id": "5pGUhDAh4zjb",
        "outputId": "dc0c7bfd-ead8-4244-b82b-714a334f93f3"
      },
      "outputs": [
        {
          "data": {
            "text/plain": [
              "(1, 3, 5, 7, 9)"
            ]
          },
          "execution_count": 2,
          "metadata": {},
          "output_type": "execute_result"
        }
      ],
      "source": [
        "my_variables"
      ]
    },
    {
      "cell_type": "code",
      "execution_count": null,
      "metadata": {
        "id": "-LwbeskG4zsq"
      },
      "outputs": [],
      "source": [
        "records=['name','date','location']"
      ]
    },
    {
      "cell_type": "code",
      "execution_count": null,
      "metadata": {
        "colab": {
          "base_uri": "https://localhost:8080/"
        },
        "id": "epSB79754z1K",
        "outputId": "40fa79fb-a727-47e3-a7ac-0724ea4bb086"
      },
      "outputs": [
        {
          "data": {
            "text/plain": [
              "['name', 'date', 'location']"
            ]
          },
          "execution_count": 4,
          "metadata": {},
          "output_type": "execute_result"
        }
      ],
      "source": [
        "records"
      ]
    },
    {
      "cell_type": "code",
      "execution_count": null,
      "metadata": {
        "colab": {
          "base_uri": "https://localhost:8080/"
        },
        "id": "8Mbylh3T8uod",
        "outputId": "f297c263-51b4-4072-d08f-2d203c68d4a0"
      },
      "outputs": [
        {
          "name": "stdout",
          "output_type": "stream",
          "text": [
            "the answer is:   31\n"
          ]
        }
      ],
      "source": [
        "#adding two numbers below:\n",
        "c=23 + 8\n",
        "\n",
        "print('the answer is:  ', c)\n"
      ]
    },
    {
      "cell_type": "code",
      "execution_count": null,
      "metadata": {
        "id": "rtau4bqT8urc"
      },
      "outputs": [],
      "source": []
    },
    {
      "cell_type": "code",
      "execution_count": null,
      "metadata": {
        "id": "EjQEY1q88uxO"
      },
      "outputs": [],
      "source": [
        "def add(a,b):\n",
        "  \"\"\"Function to add two numbers\"\"\"\n",
        "  add = a + b\n",
        "  return add"
      ]
    },
    {
      "cell_type": "code",
      "execution_count": null,
      "metadata": {
        "colab": {
          "base_uri": "https://localhost:8080/"
        },
        "id": "27Uo8zZp8uzw",
        "outputId": "c840a94e-c7ce-45bd-ef0a-7ab1c1094a8d"
      },
      "outputs": [
        {
          "data": {
            "text/plain": [
              "120"
            ]
          },
          "execution_count": 9,
          "metadata": {},
          "output_type": "execute_result"
        }
      ],
      "source": [
        "add(52,68)"
      ]
    },
    {
      "cell_type": "code",
      "execution_count": null,
      "metadata": {
        "id": "5vTwCG9pOkoj"
      },
      "outputs": [],
      "source": [
        "def add(a,b):\n",
        "  \"\"\"Function to add two numbers\"\"\"\n",
        "  add = a + b\n",
        "  return add"
      ]
    },
    {
      "cell_type": "code",
      "execution_count": null,
      "metadata": {
        "colab": {
          "base_uri": "https://localhost:8080/",
          "height": 35
        },
        "id": "O49mgP388u3B",
        "outputId": "4296a6be-a584-48fc-c1e6-e3aab0631c3f"
      },
      "outputs": [
        {
          "data": {
            "application/vnd.google.colaboratory.intrinsic+json": {
              "type": "string"
            },
            "text/plain": [
              "'Function to add two numbers'"
            ]
          },
          "execution_count": 4,
          "metadata": {},
          "output_type": "execute_result"
        }
      ],
      "source": [
        "add.__doc__"
      ]
    },
    {
      "cell_type": "code",
      "execution_count": null,
      "metadata": {
        "id": "MXFT2mxyPPKb"
      },
      "outputs": [],
      "source": [
        "my_variable = 27"
      ]
    },
    {
      "cell_type": "code",
      "execution_count": null,
      "metadata": {
        "colab": {
          "base_uri": "https://localhost:8080/"
        },
        "id": "899O22f9PPNT",
        "outputId": "3b34ce54-2127-45aa-e557-7d172af57b34"
      },
      "outputs": [
        {
          "data": {
            "text/plain": [
              "27"
            ]
          },
          "execution_count": 6,
          "metadata": {},
          "output_type": "execute_result"
        }
      ],
      "source": [
        "my_variable"
      ]
    },
    {
      "cell_type": "code",
      "execution_count": null,
      "metadata": {
        "colab": {
          "base_uri": "https://localhost:8080/"
        },
        "id": "3AiM_o4gPPQV",
        "outputId": "e5e5e6b5-c8fd-4a73-ca7e-911a9d5d4233"
      },
      "outputs": [
        {
          "name": "stdout",
          "output_type": "stream",
          "text": [
            "139762478795888\n"
          ]
        }
      ],
      "source": [
        "print(id(my_variable))"
      ]
    },
    {
      "cell_type": "code",
      "execution_count": null,
      "metadata": {
        "id": "9be4pJmZPjCU"
      },
      "outputs": [],
      "source": [
        "company = 'Secure Solutions'"
      ]
    },
    {
      "cell_type": "code",
      "execution_count": null,
      "metadata": {
        "colab": {
          "base_uri": "https://localhost:8080/",
          "height": 35
        },
        "id": "QMeSY0sJPjE9",
        "outputId": "223e0a9c-39ef-4de4-f4f6-f6302f0af931"
      },
      "outputs": [
        {
          "data": {
            "application/vnd.google.colaboratory.intrinsic+json": {
              "type": "string"
            },
            "text/plain": [
              "'Secure Solutions'"
            ]
          },
          "execution_count": 9,
          "metadata": {},
          "output_type": "execute_result"
        }
      ],
      "source": [
        "company"
      ]
    },
    {
      "cell_type": "code",
      "execution_count": null,
      "metadata": {
        "id": "DT9Rf6myQLPs"
      },
      "outputs": [],
      "source": [
        "name = 'MrFrankie'"
      ]
    },
    {
      "cell_type": "code",
      "execution_count": null,
      "metadata": {
        "colab": {
          "base_uri": "https://localhost:8080/",
          "height": 35
        },
        "id": "rNrEHhL8QLSj",
        "outputId": "15cab28e-9741-4f13-9b2e-5780d562aea1"
      },
      "outputs": [
        {
          "data": {
            "application/vnd.google.colaboratory.intrinsic+json": {
              "type": "string"
            },
            "text/plain": [
              "'MrFrankie'"
            ]
          },
          "execution_count": 11,
          "metadata": {},
          "output_type": "execute_result"
        }
      ],
      "source": [
        "name"
      ]
    },
    {
      "cell_type": "code",
      "execution_count": null,
      "metadata": {
        "id": "ytwjblE0QLZK"
      },
      "outputs": [],
      "source": [
        "a,b,c = 103,'SSG',25.5\n",
        "\"\"\"Assigning multiple values to multiple variables\"\"\"\n"
      ]
    },
    {
      "cell_type": "code",
      "execution_count": null,
      "metadata": {
        "colab": {
          "base_uri": "https://localhost:8080/"
        },
        "id": "LmtjwmebRADn",
        "outputId": "e71da2df-e141-47a8-ab89-2c345785b500"
      },
      "outputs": [
        {
          "name": "stdout",
          "output_type": "stream",
          "text": [
            "103\n",
            "SSG\n",
            "25.5\n"
          ]
        }
      ],
      "source": [
        "print(a)\n",
        "print(b)\n",
        "print(c)\n"
      ]
    },
    {
      "cell_type": "code",
      "execution_count": null,
      "metadata": {
        "colab": {
          "base_uri": "https://localhost:8080/"
        },
        "id": "4fQEZ2r8RAAX",
        "outputId": "89b5dc1a-242c-4d01-cc86-7ee2b775db7b"
      },
      "outputs": [
        {
          "data": {
            "text/plain": [
              "(103,\n",
              " 'SSG',\n",
              " 'Convert a string or number to a floating point number, if possible.')"
            ]
          },
          "execution_count": 16,
          "metadata": {},
          "output_type": "execute_result"
        }
      ],
      "source": [
        "a,b,c.__doc__"
      ]
    },
    {
      "cell_type": "code",
      "execution_count": null,
      "metadata": {
        "id": "VDHsfsrpQ_9L"
      },
      "outputs": [],
      "source": [
        "a = ['Red', 'Green', 'Blue']\n",
        "#Better written as \n"
      ]
    },
    {
      "cell_type": "code",
      "execution_count": null,
      "metadata": {
        "id": "31gDREycUTcJ"
      },
      "outputs": [],
      "source": [
        "colours = ['Red', 'Green', 'Blue']"
      ]
    },
    {
      "cell_type": "code",
      "execution_count": null,
      "metadata": {
        "id": "iqiOBVwHShgY"
      },
      "outputs": [],
      "source": [
        "b = ['Female', 'Male']\n",
        "#Better written as\n"
      ]
    },
    {
      "cell_type": "code",
      "execution_count": null,
      "metadata": {
        "id": "IxUSYG6vShU_"
      },
      "outputs": [],
      "source": [
        "gender = ['Female', 'Male']"
      ]
    },
    {
      "cell_type": "code",
      "execution_count": null,
      "metadata": {
        "id": "aKQ3NWgHShPB"
      },
      "outputs": [],
      "source": [
        "european_countries=['Spain', 'United kingdom', 'Italy', 'Holland']"
      ]
    },
    {
      "cell_type": "code",
      "execution_count": null,
      "metadata": {
        "colab": {
          "background_save": true
        },
        "id": "vKkT2KfEPjIR"
      },
      "outputs": [],
      "source": [
        "my beautifulcolours=['Indigo', 'Red', 'Green', 'Pink', 'Blue']"
      ]
    },
    {
      "cell_type": "code",
      "source": [
        "#Python Functions\n",
        "\n",
        "#User defined functions\n",
        "\n",
        "def Addition(a,b):\n",
        "  answer=a+b\n",
        "  return answer\n",
        "  "
      ],
      "metadata": {
        "id": "QFjm-k-uhe0H"
      },
      "execution_count": null,
      "outputs": []
    },
    {
      "cell_type": "code",
      "source": [
        "Addition(7400,400)"
      ],
      "metadata": {
        "colab": {
          "base_uri": "https://localhost:8080/"
        },
        "id": "eY27P1P2heyl",
        "outputId": "4c36ad9e-28ea-435d-d512-3c04e3256d92"
      },
      "execution_count": null,
      "outputs": [
        {
          "output_type": "execute_result",
          "data": {
            "text/plain": [
              "7800"
            ]
          },
          "metadata": {},
          "execution_count": 20
        }
      ]
    },
    {
      "cell_type": "code",
      "source": [
        "#Calculate simple Interest\n",
        "\n",
        "def calculate_si(principal, rate, time):\n",
        "  interest=(principal*rate*time)/100\n",
        "  return interest + principal\n"
      ],
      "metadata": {
        "id": "3O4alPLOhev8"
      },
      "execution_count": null,
      "outputs": []
    },
    {
      "cell_type": "code",
      "source": [
        "#call up the function created\n",
        "\n",
        "calculate_si(5000,0.5,2)"
      ],
      "metadata": {
        "colab": {
          "base_uri": "https://localhost:8080/"
        },
        "id": "n7YruYkeheuB",
        "outputId": "04f37519-97ce-4455-a90c-d2bb079a9c02"
      },
      "execution_count": null,
      "outputs": [
        {
          "output_type": "execute_result",
          "data": {
            "text/plain": [
              "5050.0"
            ]
          },
          "metadata": {},
          "execution_count": 26
        }
      ]
    },
    {
      "cell_type": "code",
      "source": [],
      "metadata": {
        "id": "2eAPpp_Zheq4"
      },
      "execution_count": null,
      "outputs": []
    },
    {
      "cell_type": "code",
      "source": [
        "#creating functions for emojis\n",
        "\n",
        "def emoji(unicode=None):\n",
        "  print(unicode)"
      ],
      "metadata": {
        "id": "nhlMA8bZjvxr"
      },
      "execution_count": null,
      "outputs": []
    },
    {
      "cell_type": "code",
      "source": [
        "emoji(\"\\U0001F60E\")\n",
        "emoji(\"\\U0001F631\")\n",
        "emoji(\"\\U0001F913\")\n",
        "emoji(\"\\U0001F91F\")\n",
        "emoji(\"💩😖\")\n",
        "emoji(\"\\U0001F499\")\n",
        "emoji(\"\\U0001F616\")"
      ],
      "metadata": {
        "colab": {
          "base_uri": "https://localhost:8080/"
        },
        "id": "BNxdGNwfjvui",
        "outputId": "146d4464-942d-4ae8-f727-ff32c42c5536"
      },
      "execution_count": null,
      "outputs": [
        {
          "output_type": "stream",
          "name": "stdout",
          "text": [
            "😎\n",
            "😱\n",
            "🤓\n",
            "🤟\n",
            "💩😖\n",
            "💙\n",
            "😖\n"
          ]
        }
      ]
    },
    {
      "cell_type": "code",
      "source": [],
      "metadata": {
        "id": "sG785sU1jvrV"
      },
      "execution_count": null,
      "outputs": []
    },
    {
      "cell_type": "code",
      "source": [],
      "metadata": {
        "id": "rhYT7pjihenu"
      },
      "execution_count": null,
      "outputs": []
    },
    {
      "cell_type": "code",
      "source": [
        "#Python Arbitrary Arguments, makes the code more generic\n",
        "\n",
        "#Function that will accept username\n",
        "\n",
        "def students(*names):\n",
        "  for name in names:\n",
        "    print('Welcome ',name)\n"
      ],
      "metadata": {
        "id": "w5-RQ7tBmtKU"
      },
      "execution_count": null,
      "outputs": []
    },
    {
      "cell_type": "code",
      "source": [
        "students('James band','William Smith', 'Nancy Copper','Gil Merry','Dan Turket', 'Shan Wally','Dan Foster', 'Mahood Sleem')"
      ],
      "metadata": {
        "colab": {
          "base_uri": "https://localhost:8080/"
        },
        "id": "n1nA4qo8mtHA",
        "outputId": "30e80a5c-8f7c-4635-865a-0af5dc69d044"
      },
      "execution_count": null,
      "outputs": [
        {
          "output_type": "stream",
          "name": "stdout",
          "text": [
            "Welcome  James band\n",
            "Welcome  William Smith\n",
            "Welcome  Nancy Copper\n",
            "Welcome  Gil Merry\n",
            "Welcome  Dan Turket\n",
            "Welcome  Shan Wally\n",
            "Welcome  Dan Foster\n",
            "Welcome  Mahood Sleem\n"
          ]
        }
      ]
    },
    {
      "cell_type": "code",
      "source": [],
      "metadata": {
        "id": "cifoMMGemtEt"
      },
      "execution_count": null,
      "outputs": []
    },
    {
      "cell_type": "code",
      "source": [
        "#Functions with loops\n",
        "\n",
        "def my_function(*mm):\n",
        "  for p in mm:\n",
        "    print(p)"
      ],
      "metadata": {
        "id": "mbx9swJXmtCY"
      },
      "execution_count": null,
      "outputs": []
    },
    {
      "cell_type": "code",
      "source": [
        "my_function('Hi','My name is Frank Anozie','Welcome to my class')"
      ],
      "metadata": {
        "colab": {
          "base_uri": "https://localhost:8080/"
        },
        "id": "C0ed05Vums_F",
        "outputId": "12c4c9c5-474c-415a-bfe6-4735030d0fca"
      },
      "execution_count": null,
      "outputs": [
        {
          "output_type": "stream",
          "name": "stdout",
          "text": [
            "Hi\n",
            "My name is Frank Anozie\n",
            "Welcome to my class\n"
          ]
        }
      ]
    },
    {
      "cell_type": "code",
      "source": [],
      "metadata": {
        "id": "Fggu1z11ms7z"
      },
      "execution_count": null,
      "outputs": []
    },
    {
      "cell_type": "code",
      "source": [
        "#Lambda Functions, this is creating functions without a name, thais an anonymous function\n",
        "\n",
        "\n",
        "def func(a):\n",
        "  c=a+10\n",
        "  return c\n",
        "\n",
        "\n",
        "  func(5)\n",
        "  \n",
        "\n"
      ],
      "metadata": {
        "id": "Vv9OAmHWms5E"
      },
      "execution_count": null,
      "outputs": []
    },
    {
      "cell_type": "code",
      "source": [
        "func(5)\n"
      ],
      "metadata": {
        "colab": {
          "base_uri": "https://localhost:8080/"
        },
        "id": "V3x-Auhvms3e",
        "outputId": "82ecc368-33ec-4595-fcd7-53b885688286"
      },
      "execution_count": null,
      "outputs": [
        {
          "output_type": "execute_result",
          "data": {
            "text/plain": [
              "15"
            ]
          },
          "metadata": {},
          "execution_count": 37
        }
      ]
    },
    {
      "cell_type": "code",
      "source": [
        "x = lambda a: a+10\n",
        "\n",
        "print(x(5))"
      ],
      "metadata": {
        "colab": {
          "base_uri": "https://localhost:8080/"
        },
        "id": "RC-FMNaJmsxl",
        "outputId": "ae0f0009-79f4-4b45-ef1b-ce90b379301e"
      },
      "execution_count": null,
      "outputs": [
        {
          "output_type": "stream",
          "name": "stdout",
          "text": [
            "15\n"
          ]
        }
      ]
    },
    {
      "cell_type": "code",
      "source": [
        "x = lambda m,n : m*n\n",
        "\n",
        "print(x(8,5))"
      ],
      "metadata": {
        "colab": {
          "base_uri": "https://localhost:8080/"
        },
        "id": "RGViKkyw44Uo",
        "outputId": "602f1c87-6f9e-4d67-aa38-1a0080c98df3"
      },
      "execution_count": null,
      "outputs": [
        {
          "output_type": "stream",
          "name": "stdout",
          "text": [
            "40\n"
          ]
        }
      ]
    },
    {
      "cell_type": "code",
      "source": [
        "#Looking at a mix of both\n",
        "\n",
        "def func(n):\n",
        "  return lambda c : c*n\n",
        "\n",
        "results = func(3)\n",
        "print(results(11))\n"
      ],
      "metadata": {
        "colab": {
          "base_uri": "https://localhost:8080/"
        },
        "id": "lmIEUH-O44Rn",
        "outputId": "9daebb25-2aa9-4934-9c07-e2b2790fed31"
      },
      "execution_count": null,
      "outputs": [
        {
          "output_type": "stream",
          "name": "stdout",
          "text": [
            "33\n"
          ]
        }
      ]
    },
    {
      "cell_type": "code",
      "source": [
        "#Built-in-functions, so you dont need to write code by yourself\n",
        "\n",
        "a = 'google'\n",
        "len(a)\n",
        "\n",
        "\n"
      ],
      "metadata": {
        "colab": {
          "base_uri": "https://localhost:8080/"
        },
        "id": "wT5P6RxF44QC",
        "outputId": "cf29fa9f-f95c-416d-e67a-7de2b94b3f3c"
      },
      "execution_count": null,
      "outputs": [
        {
          "output_type": "execute_result",
          "data": {
            "text/plain": [
              "6"
            ]
          },
          "metadata": {},
          "execution_count": 41
        }
      ]
    },
    {
      "cell_type": "code",
      "source": [
        "a.upper()"
      ],
      "metadata": {
        "colab": {
          "base_uri": "https://localhost:8080/",
          "height": 35
        },
        "id": "EGox_0qH44Lf",
        "outputId": "c4b2551f-4b81-48af-8f6f-76122d4aafe4"
      },
      "execution_count": null,
      "outputs": [
        {
          "output_type": "execute_result",
          "data": {
            "text/plain": [
              "'GOOGLE'"
            ],
            "application/vnd.google.colaboratory.intrinsic+json": {
              "type": "string"
            }
          },
          "metadata": {},
          "execution_count": 42
        }
      ]
    },
    {
      "cell_type": "code",
      "source": [
        "def f(x,y):\n",
        "  tell = (x/y)\n",
        "  return -tell\n",
        "\n"
      ],
      "metadata": {
        "id": "lm7LRfK544Iz"
      },
      "execution_count": null,
      "outputs": []
    },
    {
      "cell_type": "code",
      "source": [
        "tell = (15/7)\n",
        "print(-tell)\n"
      ],
      "metadata": {
        "colab": {
          "base_uri": "https://localhost:8080/"
        },
        "id": "dAkBV3xE44GM",
        "outputId": "323a167f-49f1-4765-820f-26e3e195e269"
      },
      "execution_count": null,
      "outputs": [
        {
          "output_type": "stream",
          "name": "stdout",
          "text": [
            "-2.142857142857143\n"
          ]
        }
      ]
    },
    {
      "cell_type": "code",
      "source": [
        "abs(-tell)"
      ],
      "metadata": {
        "colab": {
          "base_uri": "https://localhost:8080/"
        },
        "id": "CGzH2W8b44Cu",
        "outputId": "35191a1b-e5bf-4c74-bc3d-0d8f7fd738d4"
      },
      "execution_count": null,
      "outputs": [
        {
          "output_type": "execute_result",
          "data": {
            "text/plain": [
              "2.142857142857143"
            ]
          },
          "metadata": {},
          "execution_count": 49
        }
      ]
    },
    {
      "cell_type": "code",
      "source": [
        "round(-tell, 3)\n",
        "\n"
      ],
      "metadata": {
        "colab": {
          "base_uri": "https://localhost:8080/"
        },
        "id": "s6oYJ3YC43_0",
        "outputId": "2435a5cc-daa5-42a3-c85a-151a0859954d"
      },
      "execution_count": null,
      "outputs": [
        {
          "output_type": "execute_result",
          "data": {
            "text/plain": [
              "-2.143"
            ]
          },
          "metadata": {},
          "execution_count": 51
        }
      ]
    },
    {
      "cell_type": "code",
      "source": [
        "abs(round(-tell, 3))"
      ],
      "metadata": {
        "colab": {
          "base_uri": "https://localhost:8080/"
        },
        "id": "3MeZx-ms438u",
        "outputId": "8059e625-49cc-4201-deea-7ab33887b174"
      },
      "execution_count": null,
      "outputs": [
        {
          "output_type": "execute_result",
          "data": {
            "text/plain": [
              "2.143"
            ]
          },
          "metadata": {},
          "execution_count": 52
        }
      ]
    },
    {
      "cell_type": "code",
      "source": [
        "#More functions\n",
        "\n",
        "min(90,200,500,20,7)"
      ],
      "metadata": {
        "colab": {
          "base_uri": "https://localhost:8080/"
        },
        "id": "Gd__Bxwc-3Ru",
        "outputId": "b9b15967-46fe-4e17-9059-2608799b9790"
      },
      "execution_count": null,
      "outputs": [
        {
          "output_type": "execute_result",
          "data": {
            "text/plain": [
              "7"
            ]
          },
          "metadata": {},
          "execution_count": 53
        }
      ]
    },
    {
      "cell_type": "code",
      "source": [
        "max(90,200,500,20,7)"
      ],
      "metadata": {
        "colab": {
          "base_uri": "https://localhost:8080/"
        },
        "id": "HDCb5Gp--3Oe",
        "outputId": "e1ac9baa-e758-4fab-e7ff-0dc93144d647"
      },
      "execution_count": null,
      "outputs": [
        {
          "output_type": "execute_result",
          "data": {
            "text/plain": [
              "500"
            ]
          },
          "metadata": {},
          "execution_count": 54
        }
      ]
    },
    {
      "cell_type": "code",
      "source": [
        "k = 'folkd'\n",
        "k.replace('d','s')"
      ],
      "metadata": {
        "colab": {
          "base_uri": "https://localhost:8080/",
          "height": 35
        },
        "id": "bxlTH_j2-3K8",
        "outputId": "d5997526-643e-4935-81db-dc4d455bf804"
      },
      "execution_count": null,
      "outputs": [
        {
          "output_type": "execute_result",
          "data": {
            "text/plain": [
              "'folks'"
            ],
            "application/vnd.google.colaboratory.intrinsic+json": {
              "type": "string"
            }
          },
          "metadata": {},
          "execution_count": 55
        }
      ]
    },
    {
      "cell_type": "code",
      "source": [],
      "metadata": {
        "id": "wnrHHqNM_yFi"
      },
      "execution_count": null,
      "outputs": []
    },
    {
      "cell_type": "code",
      "source": [
        "#Python Global Variable, this creating a variable outside the function, but can still accsess the variable\n",
        "\n",
        "\n",
        "a = 'I am outside a function'\n",
        "\n",
        "def func():\n",
        "  return a\n",
        "\n",
        "func()\n",
        "\n",
        "\n"
      ],
      "metadata": {
        "colab": {
          "base_uri": "https://localhost:8080/",
          "height": 35
        },
        "id": "kyHdEZzG_yCP",
        "outputId": "9831ec70-0792-40f5-aa4c-78389981dbd3"
      },
      "execution_count": null,
      "outputs": [
        {
          "output_type": "execute_result",
          "data": {
            "text/plain": [
              "'I am outside a function'"
            ],
            "application/vnd.google.colaboratory.intrinsic+json": {
              "type": "string"
            }
          },
          "metadata": {},
          "execution_count": 56
        }
      ]
    },
    {
      "cell_type": "code",
      "source": [
        "#local Variable\n",
        "\n",
        "\n",
        "def func():\n",
        "  b = 'I am inside the function and I am a local variable'\n",
        "  return a\n",
        "\n",
        "func()"
      ],
      "metadata": {
        "colab": {
          "base_uri": "https://localhost:8080/",
          "height": 35
        },
        "id": "Ekj2NdCp_x_P",
        "outputId": "f6f724f4-2b8d-4068-d5d8-0d5a51569a2c"
      },
      "execution_count": null,
      "outputs": [
        {
          "output_type": "execute_result",
          "data": {
            "text/plain": [
              "'I am outside a function'"
            ],
            "application/vnd.google.colaboratory.intrinsic+json": {
              "type": "string"
            }
          },
          "metadata": {},
          "execution_count": 57
        }
      ]
    },
    {
      "cell_type": "code",
      "source": [
        "#Combining the global and local functions\n",
        "\n",
        "a = 'I am outside a function'\n",
        "\n",
        "def func():\n",
        "  b = 'I am inside the function'\n",
        "  full_sentence = b + ' '+ 'and' + ' ' + a\n",
        "  return full_sentence\n",
        "\n",
        "func()"
      ],
      "metadata": {
        "colab": {
          "base_uri": "https://localhost:8080/",
          "height": 35
        },
        "id": "XJtAOFplDNJr",
        "outputId": "febe5bdb-b7b8-4efa-e7f2-2ebf06a84478"
      },
      "execution_count": null,
      "outputs": [
        {
          "output_type": "execute_result",
          "data": {
            "text/plain": [
              "'I am inside the function and I am outside a function'"
            ],
            "application/vnd.google.colaboratory.intrinsic+json": {
              "type": "string"
            }
          },
          "metadata": {},
          "execution_count": 59
        }
      ]
    },
    {
      "cell_type": "code",
      "source": [],
      "metadata": {
        "id": "gIvnCtjdDM-k"
      },
      "execution_count": null,
      "outputs": []
    },
    {
      "cell_type": "code",
      "source": [],
      "metadata": {
        "id": "4UR5m9B4_x8U"
      },
      "execution_count": null,
      "outputs": []
    },
    {
      "cell_type": "code",
      "source": [],
      "metadata": {
        "id": "ytuOPKN4_x5C"
      },
      "execution_count": null,
      "outputs": []
    },
    {
      "cell_type": "code",
      "source": [],
      "metadata": {
        "id": "2A38Uekc_x1Y"
      },
      "execution_count": null,
      "outputs": []
    },
    {
      "cell_type": "code",
      "source": [],
      "metadata": {
        "id": "IgHD-3JZ_xwH"
      },
      "execution_count": null,
      "outputs": []
    }
  ],
  "metadata": {
    "colab": {
      "provenance": [],
      "authorship_tag": "ABX9TyODkSHGEVuJ/ksL7rXex0/k",
      "include_colab_link": true
    },
    "kernelspec": {
      "display_name": "Python 3",
      "name": "python3"
    },
    "language_info": {
      "name": "python"
    }
  },
  "nbformat": 4,
  "nbformat_minor": 0
}